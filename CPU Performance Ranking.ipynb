{
 "cells": [
  {
   "cell_type": "code",
   "execution_count": 0,
   "metadata": {
    "application/vnd.databricks.v1+cell": {
     "cellMetadata": {},
     "inputWidgets": {},
     "nuid": "0a8702ee-b3da-4e77-a590-b1508d6a22a8",
     "showTitle": false,
     "title": ""
    }
   },
   "outputs": [],
   "source": [
    "%sql\n",
    "--CREATE WIDGET TEXT dateToProcess  DEFAULT 'null'"
   ]
  },
  {
   "cell_type": "markdown",
   "metadata": {
    "application/vnd.databricks.v1+cell": {
     "cellMetadata": {},
     "inputWidgets": {},
     "nuid": "c34fe963-b9cc-4365-8d82-cd36fd17b9f8",
     "showTitle": false,
     "title": ""
    }
   },
   "source": [
    "## ATRIBEC-199 CPU Performance Ranking\n",
    "\n",
    "Get information about the most recent Smartphone CPU. Generally, High-end smartphones have the latest and most powerful CPU. We'll get the data from the [Nanoreview](https://nanoreview.net/en/soc-list/rating) ranking"
   ]
  },
  {
   "cell_type": "markdown",
   "metadata": {
    "application/vnd.databricks.v1+cell": {
     "cellMetadata": {},
     "inputWidgets": {},
     "nuid": "ef151ae8-f888-40ad-8025-73deb2cdc9e0",
     "showTitle": false,
     "title": ""
    }
   },
   "source": [
    "#### Step 1 - Import Libraries"
   ]
  },
  {
   "cell_type": "code",
   "execution_count": 0,
   "metadata": {
    "application/vnd.databricks.v1+cell": {
     "cellMetadata": {},
     "inputWidgets": {},
     "nuid": "14db37b9-2272-4632-bbd1-e1238b8f9cc1",
     "showTitle": false,
     "title": ""
    }
   },
   "outputs": [
    {
     "output_type": "display_data",
     "data": {
      "text/html": [
       "<style scoped>\n",
       "  .ansiout {\n",
       "    display: block;\n",
       "    unicode-bidi: embed;\n",
       "    white-space: pre-wrap;\n",
       "    word-wrap: break-word;\n",
       "    word-break: break-all;\n",
       "    font-family: \"Source Code Pro\", \"Menlo\", monospace;;\n",
       "    font-size: 13px;\n",
       "    color: #555;\n",
       "    margin-left: 4px;\n",
       "    line-height: 19px;\n",
       "  }\n",
       "</style>\n",
       "<div class=\"ansiout\">Python interpreter will be restarted.\n",
       "Requirement already satisfied: BeautifulSoup4 in /local_disk0/.ephemeral_nfs/envs/pythonEnv-a70449c1-019d-45dc-8deb-df107fef7aff/lib/python3.8/site-packages (4.11.1)\n",
       "Requirement already satisfied: soupsieve&gt;1.2 in /local_disk0/.ephemeral_nfs/envs/pythonEnv-a70449c1-019d-45dc-8deb-df107fef7aff/lib/python3.8/site-packages (from BeautifulSoup4) (2.3.2.post1)\n",
       "WARNING: You are using pip version 21.0.1; however, version 22.2.2 is available.\n",
       "You should consider upgrading via the &#39;/local_disk0/.ephemeral_nfs/envs/pythonEnv-a70449c1-019d-45dc-8deb-df107fef7aff/bin/python -m pip install --upgrade pip&#39; command.\n",
       "Python interpreter will be restarted.\n",
       "</div>"
      ]
     },
     "metadata": {
      "application/vnd.databricks.v1+output": {
       "addedWidgets": {},
       "arguments": {},
       "data": "<div class=\"ansiout\">Python interpreter will be restarted.\nRequirement already satisfied: BeautifulSoup4 in /local_disk0/.ephemeral_nfs/envs/pythonEnv-a70449c1-019d-45dc-8deb-df107fef7aff/lib/python3.8/site-packages (4.11.1)\nRequirement already satisfied: soupsieve&gt;1.2 in /local_disk0/.ephemeral_nfs/envs/pythonEnv-a70449c1-019d-45dc-8deb-df107fef7aff/lib/python3.8/site-packages (from BeautifulSoup4) (2.3.2.post1)\nWARNING: You are using pip version 21.0.1; however, version 22.2.2 is available.\nYou should consider upgrading via the &#39;/local_disk0/.ephemeral_nfs/envs/pythonEnv-a70449c1-019d-45dc-8deb-df107fef7aff/bin/python -m pip install --upgrade pip&#39; command.\nPython interpreter will be restarted.\n</div>",
       "datasetInfos": [],
       "metadata": {},
       "removedWidgets": [],
       "type": "html"
      }
     },
     "output_type": "display_data"
    }
   ],
   "source": [
    "pip install BeautifulSoup4"
   ]
  },
  {
   "cell_type": "code",
   "execution_count": 0,
   "metadata": {
    "application/vnd.databricks.v1+cell": {
     "cellMetadata": {},
     "inputWidgets": {},
     "nuid": "7b71179c-f9dd-44b5-b1b5-963ad7732a49",
     "showTitle": false,
     "title": ""
    }
   },
   "outputs": [
    {
     "output_type": "display_data",
     "data": {
      "text/html": [
       "<style scoped>\n",
       "  .ansiout {\n",
       "    display: block;\n",
       "    unicode-bidi: embed;\n",
       "    white-space: pre-wrap;\n",
       "    word-wrap: break-word;\n",
       "    word-break: break-all;\n",
       "    font-family: \"Source Code Pro\", \"Menlo\", monospace;;\n",
       "    font-size: 13px;\n",
       "    color: #555;\n",
       "    margin-left: 4px;\n",
       "    line-height: 19px;\n",
       "  }\n",
       "</style>\n",
       "<div class=\"ansiout\"></div>"
      ]
     },
     "metadata": {
      "application/vnd.databricks.v1+output": {
       "addedWidgets": {},
       "arguments": {},
       "data": "<div class=\"ansiout\"></div>",
       "datasetInfos": [],
       "metadata": {},
       "removedWidgets": [],
       "type": "html"
      }
     },
     "output_type": "display_data"
    }
   ],
   "source": [
    "from bs4 import BeautifulSoup\n",
    "import requests\n",
    "import pandas as pd"
   ]
  },
  {
   "cell_type": "markdown",
   "metadata": {
    "application/vnd.databricks.v1+cell": {
     "cellMetadata": {},
     "inputWidgets": {},
     "nuid": "375b5469-6eb7-49ed-abbb-5dd3c9a78297",
     "showTitle": false,
     "title": ""
    }
   },
   "source": [
    "HTTP Request"
   ]
  },
  {
   "cell_type": "code",
   "execution_count": 0,
   "metadata": {
    "application/vnd.databricks.v1+cell": {
     "cellMetadata": {},
     "inputWidgets": {},
     "nuid": "0e56699e-ac63-48e5-88e5-17161b54a961",
     "showTitle": false,
     "title": ""
    }
   },
   "outputs": [
    {
     "output_type": "display_data",
     "data": {
      "text/html": [
       "<style scoped>\n",
       "  .ansiout {\n",
       "    display: block;\n",
       "    unicode-bidi: embed;\n",
       "    white-space: pre-wrap;\n",
       "    word-wrap: break-word;\n",
       "    word-break: break-all;\n",
       "    font-family: \"Source Code Pro\", \"Menlo\", monospace;;\n",
       "    font-size: 13px;\n",
       "    color: #555;\n",
       "    margin-left: 4px;\n",
       "    line-height: 19px;\n",
       "  }\n",
       "</style>\n",
       "<div class=\"ansiout\"></div>"
      ]
     },
     "metadata": {
      "application/vnd.databricks.v1+output": {
       "addedWidgets": {},
       "arguments": {},
       "data": "<div class=\"ansiout\"></div>",
       "datasetInfos": [],
       "metadata": {},
       "removedWidgets": [],
       "type": "html"
      }
     },
     "output_type": "display_data"
    }
   ],
   "source": [
    "website = 'https://nanoreview.net/en/soc-list/rating'"
   ]
  },
  {
   "cell_type": "code",
   "execution_count": 0,
   "metadata": {
    "application/vnd.databricks.v1+cell": {
     "cellMetadata": {},
     "inputWidgets": {},
     "nuid": "2fd07c5a-3c2f-409a-928e-318aa4708886",
     "showTitle": false,
     "title": ""
    }
   },
   "outputs": [
    {
     "output_type": "display_data",
     "data": {
      "text/html": [
       "<style scoped>\n",
       "  .ansiout {\n",
       "    display: block;\n",
       "    unicode-bidi: embed;\n",
       "    white-space: pre-wrap;\n",
       "    word-wrap: break-word;\n",
       "    word-break: break-all;\n",
       "    font-family: \"Source Code Pro\", \"Menlo\", monospace;;\n",
       "    font-size: 13px;\n",
       "    color: #555;\n",
       "    margin-left: 4px;\n",
       "    line-height: 19px;\n",
       "  }\n",
       "</style>\n",
       "<div class=\"ansiout\"></div>"
      ]
     },
     "metadata": {
      "application/vnd.databricks.v1+output": {
       "addedWidgets": {},
       "arguments": {},
       "data": "<div class=\"ansiout\"></div>",
       "datasetInfos": [],
       "metadata": {},
       "removedWidgets": [],
       "type": "html"
      }
     },
     "output_type": "display_data"
    }
   ],
   "source": [
    "response = requests.get(website)"
   ]
  },
  {
   "cell_type": "code",
   "execution_count": 0,
   "metadata": {
    "application/vnd.databricks.v1+cell": {
     "cellMetadata": {},
     "inputWidgets": {},
     "nuid": "5ce0548c-b21c-446e-ad57-712d496a321d",
     "showTitle": false,
     "title": ""
    }
   },
   "outputs": [
    {
     "output_type": "display_data",
     "data": {
      "text/html": [
       "<style scoped>\n",
       "  .ansiout {\n",
       "    display: block;\n",
       "    unicode-bidi: embed;\n",
       "    white-space: pre-wrap;\n",
       "    word-wrap: break-word;\n",
       "    word-break: break-all;\n",
       "    font-family: \"Source Code Pro\", \"Menlo\", monospace;;\n",
       "    font-size: 13px;\n",
       "    color: #555;\n",
       "    margin-left: 4px;\n",
       "    line-height: 19px;\n",
       "  }\n",
       "</style>\n",
       "<div class=\"ansiout\">Out[4]: 200</div>"
      ]
     },
     "metadata": {
      "application/vnd.databricks.v1+output": {
       "addedWidgets": {},
       "arguments": {},
       "data": "<div class=\"ansiout\">Out[4]: 200</div>",
       "datasetInfos": [],
       "metadata": {},
       "removedWidgets": [],
       "type": "html"
      }
     },
     "output_type": "display_data"
    }
   ],
   "source": [
    "response.status_code"
   ]
  },
  {
   "cell_type": "markdown",
   "metadata": {
    "application/vnd.databricks.v1+cell": {
     "cellMetadata": {},
     "inputWidgets": {},
     "nuid": "bf018156-4643-43fd-91a1-deb194b7bb69",
     "showTitle": false,
     "title": ""
    }
   },
   "source": [
    "Soup object"
   ]
  },
  {
   "cell_type": "code",
   "execution_count": 0,
   "metadata": {
    "application/vnd.databricks.v1+cell": {
     "cellMetadata": {},
     "inputWidgets": {},
     "nuid": "ab18f195-12e9-46b0-8857-9176fa2f5c87",
     "showTitle": false,
     "title": ""
    }
   },
   "outputs": [
    {
     "output_type": "display_data",
     "data": {
      "text/html": [
       "<style scoped>\n",
       "  .ansiout {\n",
       "    display: block;\n",
       "    unicode-bidi: embed;\n",
       "    white-space: pre-wrap;\n",
       "    word-wrap: break-word;\n",
       "    word-break: break-all;\n",
       "    font-family: \"Source Code Pro\", \"Menlo\", monospace;;\n",
       "    font-size: 13px;\n",
       "    color: #555;\n",
       "    margin-left: 4px;\n",
       "    line-height: 19px;\n",
       "  }\n",
       "</style>\n",
       "<div class=\"ansiout\"></div>"
      ]
     },
     "metadata": {
      "application/vnd.databricks.v1+output": {
       "addedWidgets": {},
       "arguments": {},
       "data": "<div class=\"ansiout\"></div>",
       "datasetInfos": [],
       "metadata": {},
       "removedWidgets": [],
       "type": "html"
      }
     },
     "output_type": "display_data"
    }
   ],
   "source": [
    "soup = BeautifulSoup(response.content, 'html.parser')"
   ]
  },
  {
   "cell_type": "code",
   "execution_count": 0,
   "metadata": {
    "application/vnd.databricks.v1+cell": {
     "cellMetadata": {},
     "inputWidgets": {},
     "nuid": "c05511ea-cb96-4829-a9c3-bc009eea5b42",
     "showTitle": false,
     "title": ""
    }
   },
   "outputs": [
    {
     "output_type": "display_data",
     "data": {
      "text/html": [
       "<style scoped>\n",
       "  .ansiout {\n",
       "    display: block;\n",
       "    unicode-bidi: embed;\n",
       "    white-space: pre-wrap;\n",
       "    word-wrap: break-word;\n",
       "    word-break: break-all;\n",
       "    font-family: \"Source Code Pro\", \"Menlo\", monospace;;\n",
       "    font-size: 13px;\n",
       "    color: #555;\n",
       "    margin-left: 4px;\n",
       "    line-height: 19px;\n",
       "  }\n",
       "</style>\n",
       "<div class=\"ansiout\"></div>"
      ]
     },
     "metadata": {
      "application/vnd.databricks.v1+output": {
       "addedWidgets": {},
       "arguments": {},
       "data": "<div class=\"ansiout\"></div>",
       "datasetInfos": [],
       "metadata": {},
       "removedWidgets": [],
       "type": "html"
      }
     },
     "output_type": "display_data"
    }
   ],
   "source": [
    "results = soup.find_all('tr')"
   ]
  },
  {
   "cell_type": "code",
   "execution_count": 0,
   "metadata": {
    "application/vnd.databricks.v1+cell": {
     "cellMetadata": {},
     "inputWidgets": {},
     "nuid": "0b9e4846-4833-4c6c-8bde-7c4ed245f654",
     "showTitle": false,
     "title": ""
    }
   },
   "outputs": [
    {
     "output_type": "display_data",
     "data": {
      "text/html": [
       "<style scoped>\n",
       "  .ansiout {\n",
       "    display: block;\n",
       "    unicode-bidi: embed;\n",
       "    white-space: pre-wrap;\n",
       "    word-wrap: break-word;\n",
       "    word-break: break-all;\n",
       "    font-family: \"Source Code Pro\", \"Menlo\", monospace;;\n",
       "    font-size: 13px;\n",
       "    color: #555;\n",
       "    margin-left: 4px;\n",
       "    line-height: 19px;\n",
       "  }\n",
       "</style>\n",
       "<div class=\"ansiout\">Out[7]: 126</div>"
      ]
     },
     "metadata": {
      "application/vnd.databricks.v1+output": {
       "addedWidgets": {},
       "arguments": {},
       "data": "<div class=\"ansiout\">Out[7]: 126</div>",
       "datasetInfos": [],
       "metadata": {},
       "removedWidgets": [],
       "type": "html"
      }
     },
     "output_type": "display_data"
    }
   ],
   "source": [
    "len(results)"
   ]
  },
  {
   "cell_type": "code",
   "execution_count": 0,
   "metadata": {
    "application/vnd.databricks.v1+cell": {
     "cellMetadata": {},
     "inputWidgets": {},
     "nuid": "fefc7db3-dd50-4926-8d4a-8e499f11bae0",
     "showTitle": false,
     "title": ""
    }
   },
   "outputs": [
    {
     "output_type": "display_data",
     "data": {
      "text/html": [
       "<style scoped>\n",
       "  .ansiout {\n",
       "    display: block;\n",
       "    unicode-bidi: embed;\n",
       "    white-space: pre-wrap;\n",
       "    word-wrap: break-word;\n",
       "    word-break: break-all;\n",
       "    font-family: \"Source Code Pro\", \"Menlo\", monospace;;\n",
       "    font-size: 13px;\n",
       "    color: #555;\n",
       "    margin-left: 4px;\n",
       "    line-height: 19px;\n",
       "  }\n",
       "</style>\n",
       "<div class=\"ansiout\"></div>"
      ]
     },
     "metadata": {
      "application/vnd.databricks.v1+output": {
       "addedWidgets": {},
       "arguments": {},
       "data": "<div class=\"ansiout\"></div>",
       "datasetInfos": [],
       "metadata": {},
       "removedWidgets": [],
       "type": "html"
      }
     },
     "output_type": "display_data"
    }
   ],
   "source": [
    "# Discard 1st record since it has table labels\n",
    "results = results[1:]"
   ]
  },
  {
   "cell_type": "code",
   "execution_count": 0,
   "metadata": {
    "application/vnd.databricks.v1+cell": {
     "cellMetadata": {},
     "inputWidgets": {},
     "nuid": "926cd44f-9ee8-40c6-9da9-c48451f931fb",
     "showTitle": false,
     "title": ""
    }
   },
   "outputs": [
    {
     "output_type": "display_data",
     "data": {
      "text/html": [
       "<style scoped>\n",
       "  .ansiout {\n",
       "    display: block;\n",
       "    unicode-bidi: embed;\n",
       "    white-space: pre-wrap;\n",
       "    word-wrap: break-word;\n",
       "    word-break: break-all;\n",
       "    font-family: \"Source Code Pro\", \"Menlo\", monospace;;\n",
       "    font-size: 13px;\n",
       "    color: #555;\n",
       "    margin-left: 4px;\n",
       "    line-height: 19px;\n",
       "  }\n",
       "</style>\n",
       "<div class=\"ansiout\">Out[9]: 125</div>"
      ]
     },
     "metadata": {
      "application/vnd.databricks.v1+output": {
       "addedWidgets": {},
       "arguments": {},
       "data": "<div class=\"ansiout\">Out[9]: 125</div>",
       "datasetInfos": [],
       "metadata": {},
       "removedWidgets": [],
       "type": "html"
      }
     },
     "output_type": "display_data"
    }
   ],
   "source": [
    "len(results)"
   ]
  },
  {
   "cell_type": "markdown",
   "metadata": {
    "application/vnd.databricks.v1+cell": {
     "cellMetadata": {},
     "inputWidgets": {},
     "nuid": "d6b41545-9d73-449c-89e5-8f88591aaf23",
     "showTitle": false,
     "title": ""
    }
   },
   "source": [
    "Target Necessary Data and Iterate\n",
    "\n",
    "* Ranking\n",
    "* Processor\n",
    "* Manufacturer\n",
    "* GPU\n",
    "* Rating Score"
   ]
  },
  {
   "cell_type": "code",
   "execution_count": 0,
   "metadata": {
    "application/vnd.databricks.v1+cell": {
     "cellMetadata": {},
     "inputWidgets": {},
     "nuid": "a6f947ee-5659-4b34-9c4f-53e9ec075379",
     "showTitle": false,
     "title": ""
    }
   },
   "outputs": [
    {
     "output_type": "display_data",
     "data": {
      "text/html": [
       "<style scoped>\n",
       "  .ansiout {\n",
       "    display: block;\n",
       "    unicode-bidi: embed;\n",
       "    white-space: pre-wrap;\n",
       "    word-wrap: break-word;\n",
       "    word-break: break-all;\n",
       "    font-family: \"Source Code Pro\", \"Menlo\", monospace;;\n",
       "    font-size: 13px;\n",
       "    color: #555;\n",
       "    margin-left: 4px;\n",
       "    line-height: 19px;\n",
       "  }\n",
       "</style>\n",
       "<div class=\"ansiout\"></div>"
      ]
     },
     "metadata": {
      "application/vnd.databricks.v1+output": {
       "addedWidgets": {},
       "arguments": {},
       "data": "<div class=\"ansiout\"></div>",
       "datasetInfos": [],
       "metadata": {},
       "removedWidgets": [],
       "type": "html"
      }
     },
     "output_type": "display_data"
    }
   ],
   "source": [
    "test = results[0]"
   ]
  },
  {
   "cell_type": "code",
   "execution_count": 0,
   "metadata": {
    "application/vnd.databricks.v1+cell": {
     "cellMetadata": {},
     "inputWidgets": {},
     "nuid": "ea7f3061-ec68-45f3-959c-37b750cd402f",
     "showTitle": false,
     "title": ""
    }
   },
   "outputs": [
    {
     "output_type": "display_data",
     "data": {
      "text/html": [
       "<style scoped>\n",
       "  .ansiout {\n",
       "    display: block;\n",
       "    unicode-bidi: embed;\n",
       "    white-space: pre-wrap;\n",
       "    word-wrap: break-word;\n",
       "    word-break: break-all;\n",
       "    font-family: \"Source Code Pro\", \"Menlo\", monospace;;\n",
       "    font-size: 13px;\n",
       "    color: #555;\n",
       "    margin-left: 4px;\n",
       "    line-height: 19px;\n",
       "  }\n",
       "</style>\n",
       "<div class=\"ansiout\"></div>"
      ]
     },
     "metadata": {
      "application/vnd.databricks.v1+output": {
       "addedWidgets": {},
       "arguments": {},
       "data": "<div class=\"ansiout\"></div>",
       "datasetInfos": [],
       "metadata": {},
       "removedWidgets": [],
       "type": "html"
      }
     },
     "output_type": "display_data"
    }
   ],
   "source": [
    "# Ranking\n",
    "ranking = [result.find('div', {'class':'tac'}).get_text().strip() for result in results]\n",
    "\n",
    "# Processor\n",
    "cpu = [result.find('a', {'style':'font-weight:500;'}).get_text() for result in results]\n",
    "\n",
    "# Manufacturer\n",
    "man = [result.find('span', {'class':'text-gray-small'}).get_text() for result in results]\n",
    "\n",
    "# GPU\n",
    "gpu = [result.find('div', {'style':'width: 90px; white-space: normal;'}).get_text() for result in results]\n",
    "\n",
    "# Rating Score\n",
    "score = [result.find('div', {'class':'table-list-score-box'}).get_text() for result in results]"
   ]
  },
  {
   "cell_type": "markdown",
   "metadata": {
    "application/vnd.databricks.v1+cell": {
     "cellMetadata": {},
     "inputWidgets": {},
     "nuid": "2fefa513-9247-4cb9-af65-30ccd83858b3",
     "showTitle": false,
     "title": ""
    }
   },
   "source": [
    "Create Spark Dataframe"
   ]
  },
  {
   "cell_type": "code",
   "execution_count": 0,
   "metadata": {
    "application/vnd.databricks.v1+cell": {
     "cellMetadata": {},
     "inputWidgets": {},
     "nuid": "49d95bef-a621-434c-8fea-a169f946a82f",
     "showTitle": false,
     "title": ""
    }
   },
   "outputs": [
    {
     "output_type": "display_data",
     "data": {
      "text/html": [
       "<style scoped>\n",
       "  .ansiout {\n",
       "    display: block;\n",
       "    unicode-bidi: embed;\n",
       "    white-space: pre-wrap;\n",
       "    word-wrap: break-word;\n",
       "    word-break: break-all;\n",
       "    font-family: \"Source Code Pro\", \"Menlo\", monospace;;\n",
       "    font-size: 13px;\n",
       "    color: #555;\n",
       "    margin-left: 4px;\n",
       "    line-height: 19px;\n",
       "  }\n",
       "</style>\n",
       "<div class=\"ansiout\"></div>"
      ]
     },
     "metadata": {
      "application/vnd.databricks.v1+output": {
       "addedWidgets": {},
       "arguments": {},
       "data": "<div class=\"ansiout\"></div>",
       "datasetInfos": [],
       "metadata": {},
       "removedWidgets": [],
       "type": "html"
      }
     },
     "output_type": "display_data"
    }
   ],
   "source": [
    "# Convert into Spark DataFrame\n",
    "spark_df = spark.createDataFrame(pd.DataFrame({'ranking':ranking, 'cpu':cpu, 'manufacturer':man, 'gpu':gpu, 'score':score}))"
   ]
  },
  {
   "cell_type": "code",
   "execution_count": 0,
   "metadata": {
    "application/vnd.databricks.v1+cell": {
     "cellMetadata": {},
     "inputWidgets": {},
     "nuid": "7349d31a-2279-400c-aee4-0caede1067df",
     "showTitle": false,
     "title": ""
    }
   },
   "outputs": [
    {
     "output_type": "display_data",
     "data": {
      "text/html": [
       "<style scoped>\n",
       "  .ansiout {\n",
       "    display: block;\n",
       "    unicode-bidi: embed;\n",
       "    white-space: pre-wrap;\n",
       "    word-wrap: break-word;\n",
       "    word-break: break-all;\n",
       "    font-family: \"Source Code Pro\", \"Menlo\", monospace;;\n",
       "    font-size: 13px;\n",
       "    color: #555;\n",
       "    margin-left: 4px;\n",
       "    line-height: 19px;\n",
       "  }\n",
       "</style>\n",
       "<div class=\"ansiout\"></div>"
      ]
     },
     "metadata": {
      "application/vnd.databricks.v1+output": {
       "addedWidgets": {},
       "arguments": {},
       "data": "<div class=\"ansiout\"></div>",
       "datasetInfos": [],
       "metadata": {},
       "removedWidgets": [],
       "type": "html"
      }
     },
     "output_type": "display_data"
    }
   ],
   "source": [
    "# Register table so it is accessible via SQL Context\n",
    "spark_df.createOrReplaceTempView(\"cpu_ranking\") "
   ]
  },
  {
   "cell_type": "code",
   "execution_count": 0,
   "metadata": {
    "application/vnd.databricks.v1+cell": {
     "cellMetadata": {
      "implicitDf": true
     },
     "inputWidgets": {},
     "nuid": "ca10bb09-4509-4a55-949c-b318d4d0b348",
     "showTitle": false,
     "title": ""
    }
   },
   "outputs": [
    {
     "output_type": "display_data",
     "data": {
      "text/html": [
       "<style scoped>\n",
       "  .table-result-container {\n",
       "    max-height: 300px;\n",
       "    overflow: auto;\n",
       "  }\n",
       "  table, th, td {\n",
       "    border: 1px solid black;\n",
       "    border-collapse: collapse;\n",
       "  }\n",
       "  th, td {\n",
       "    padding: 5px;\n",
       "  }\n",
       "  th {\n",
       "    text-align: left;\n",
       "  }\n",
       "</style><div class='table-result-container'><table class='table-result'><thead style='background-color: white'><tr></tr></thead><tbody></tbody></table></div>"
      ]
     },
     "metadata": {
      "application/vnd.databricks.v1+output": {
       "addedWidgets": {},
       "aggData": [],
       "aggError": "",
       "aggOverflow": false,
       "aggSchema": [],
       "aggSeriesLimitReached": false,
       "aggType": "",
       "arguments": {},
       "columnCustomDisplayInfos": {},
       "data": [],
       "datasetInfos": [],
       "dbfsResultPath": null,
       "isJsonSchema": true,
       "metadata": {},
       "overflow": false,
       "plotOptions": {
        "customPlotOptions": {},
        "displayType": "table",
        "pivotAggregation": null,
        "pivotColumns": null,
        "xColumns": null,
        "yColumns": null
       },
       "removedWidgets": [],
       "schema": [],
       "type": "table"
      }
     },
     "output_type": "display_data"
    }
   ],
   "source": [
    "%sql\n",
    "CREATE OR REPLACE TEMP VIEW cpu_ranking_clean AS\n",
    "SELECT \n",
    "  CASE WHEN '$dateToProcess' <> 'null' THEN '$dateToProcess' ELSE CURRENT_DATE END AS process_dt,\n",
    "  CAST(ranking AS int) AS ranking,\n",
    "  cpu,\n",
    "  manufacturer,\n",
    "  gpu,\n",
    "  CAST(score AS int) AS score\n",
    "FROM cpu_ranking"
   ]
  },
  {
   "cell_type": "code",
   "execution_count": 0,
   "metadata": {
    "application/vnd.databricks.v1+cell": {
     "cellMetadata": {
      "implicitDf": true
     },
     "inputWidgets": {},
     "nuid": "31d6c959-44b7-4f02-ad73-605095e7569a",
     "showTitle": false,
     "title": ""
    }
   },
   "outputs": [
    {
     "output_type": "display_data",
     "data": {
      "text/html": [
       "<style scoped>\n",
       "  .table-result-container {\n",
       "    max-height: 300px;\n",
       "    overflow: auto;\n",
       "  }\n",
       "  table, th, td {\n",
       "    border: 1px solid black;\n",
       "    border-collapse: collapse;\n",
       "  }\n",
       "  th, td {\n",
       "    padding: 5px;\n",
       "  }\n",
       "  th {\n",
       "    text-align: left;\n",
       "  }\n",
       "</style><div class='table-result-container'><table class='table-result'><thead style='background-color: white'><tr><th>process_dt</th><th>ranking</th><th>cpu</th><th>manufacturer</th><th>gpu</th><th>score</th></tr></thead><tbody><tr><td>2022-09-13</td><td>1</td><td>A16 Bionic</td><td>Apple</td><td>Apple GPU</td><td>98</td></tr><tr><td>2022-09-13</td><td>2</td><td>A15 Bionic</td><td>Apple</td><td>Apple GPU</td><td>98</td></tr><tr><td>2022-09-13</td><td>3</td><td>Dimensity 9000 Plus</td><td>MediaTek</td><td>Mali-G710 MC10</td><td>97</td></tr><tr><td>2022-09-13</td><td>4</td><td>Snapdragon 8 Plus Gen 1</td><td>Qualcomm</td><td>Adreno 730</td><td>97</td></tr><tr><td>2022-09-13</td><td>5</td><td>Dimensity 9000</td><td>MediaTek</td><td>Mali-G710</td><td>96</td></tr><tr><td>2022-09-13</td><td>6</td><td>Snapdragon 8 Gen 1</td><td>Qualcomm</td><td>Adreno 730</td><td>94</td></tr><tr><td>2022-09-13</td><td>7</td><td>A14 Bionic</td><td>Apple</td><td>Apple GPU</td><td>92</td></tr><tr><td>2022-09-13</td><td>8</td><td>Snapdragon 888 Plus</td><td>Qualcomm</td><td>Adreno 660</td><td>91</td></tr><tr><td>2022-09-13</td><td>9</td><td>Exynos 2200</td><td>Samsung</td><td>Samsung Xclipse 920</td><td>90</td></tr><tr><td>2022-09-13</td><td>10</td><td>Snapdragon 888</td><td>Qualcomm</td><td>Adreno 660</td><td>90</td></tr><tr><td>2022-09-13</td><td>11</td><td>Dimensity 8100</td><td>MediaTek</td><td>Mali-G610 MC6</td><td>87</td></tr><tr><td>2022-09-13</td><td>12</td><td>Google Tensor</td><td>Google</td><td>Mali-G78 MP20</td><td>85</td></tr><tr><td>2022-09-13</td><td>13</td><td>Kirin 9000</td><td>HiSilicon</td><td>Mali-G78 MP24</td><td>85</td></tr><tr><td>2022-09-13</td><td>14</td><td>Exynos 2100</td><td>Samsung</td><td>Mali-G78 MP14</td><td>82</td></tr><tr><td>2022-09-13</td><td>15</td><td>A13 Bionic</td><td>Apple</td><td>Apple A13 Bionic GPU</td><td>81</td></tr><tr><td>2022-09-13</td><td>16</td><td>Snapdragon 870</td><td>Qualcomm</td><td>Adreno 650</td><td>78</td></tr><tr><td>2022-09-13</td><td>17</td><td>Kirin 9000E</td><td>HiSilicon</td><td>Mali-G78 MP22</td><td>78</td></tr><tr><td>2022-09-13</td><td>18</td><td>Exynos 1080</td><td>Samsung</td><td>Mali-G78 MP10</td><td>78</td></tr><tr><td>2022-09-13</td><td>19</td><td>Snapdragon 865 Plus</td><td>Qualcomm</td><td>Adreno 650</td><td>78</td></tr><tr><td>2022-09-13</td><td>20</td><td>Dimensity 1200</td><td>MediaTek</td><td>Mali-G77 MC9</td><td>77</td></tr><tr><td>2022-09-13</td><td>21</td><td>Dimensity 1300</td><td>MediaTek</td><td>Mali-G77 MC9</td><td>76</td></tr><tr><td>2022-09-13</td><td>22</td><td>Dimensity 8000</td><td>MediaTek</td><td>Mali-G610 MC6</td><td>76</td></tr><tr><td>2022-09-13</td><td>23</td><td>Snapdragon 865</td><td>Qualcomm</td><td>Adreno 650</td><td>74</td></tr><tr><td>2022-09-13</td><td>24</td><td>Snapdragon 7 Gen 1</td><td>Qualcomm</td><td>Adreno 662</td><td>71</td></tr><tr><td>2022-09-13</td><td>25</td><td>Dimensity 1100</td><td>MediaTek</td><td>Mali-G77 MC9</td><td>71</td></tr><tr><td>2022-09-13</td><td>26</td><td>Exynos 990</td><td>Samsung</td><td>Mali-G77 MP11</td><td>71</td></tr><tr><td>2022-09-13</td><td>27</td><td>Dimensity 1000 Plus</td><td>MediaTek</td><td>Mali-G77 MC9</td><td>69</td></tr><tr><td>2022-09-13</td><td>28</td><td>A12 Bionic</td><td>Apple</td><td>Apple A12 Bionic GPU</td><td>69</td></tr><tr><td>2022-09-13</td><td>29</td><td>Snapdragon 860</td><td>Qualcomm</td><td>Adreno 640</td><td>67</td></tr><tr><td>2022-09-13</td><td>30</td><td>Snapdragon 855 Plus</td><td>Qualcomm</td><td>Adreno 640</td><td>66</td></tr><tr><td>2022-09-13</td><td>31</td><td>Kirin 990 (5G)</td><td>HiSilicon</td><td>Mali G76 MP16</td><td>65</td></tr><tr><td>2022-09-13</td><td>32</td><td>Snapdragon 778G Plus</td><td>Qualcomm</td><td>Adreno 642L</td><td>64</td></tr><tr><td>2022-09-13</td><td>33</td><td>Snapdragon 780G</td><td>Qualcomm</td><td>Adreno 642</td><td>64</td></tr><tr><td>2022-09-13</td><td>34</td><td>Snapdragon 855</td><td>Qualcomm</td><td>Adreno 640</td><td>63</td></tr><tr><td>2022-09-13</td><td>35</td><td>Snapdragon 778G</td><td>Qualcomm</td><td>Adreno 642L</td><td>62</td></tr><tr><td>2022-09-13</td><td>36</td><td>Kirin 990 (4G)</td><td>HiSilicon</td><td>Mali G76 MP16</td><td>61</td></tr><tr><td>2022-09-13</td><td>37</td><td>Exynos 9820</td><td>Samsung</td><td>Mali G76 MP12</td><td>61</td></tr><tr><td>2022-09-13</td><td>38</td><td>Dimensity 920</td><td>MediaTek</td><td>Mali-G68 MC4</td><td>59</td></tr><tr><td>2022-09-13</td><td>39</td><td>Dimensity 1000</td><td>MediaTek</td><td>Mali-G77 MP9</td><td>59</td></tr><tr><td>2022-09-13</td><td>40</td><td>Exynos 9825</td><td>Samsung</td><td>Mali G76 MP12</td><td>59</td></tr><tr><td>2022-09-13</td><td>41</td><td>Dimensity 1000L</td><td>MediaTek</td><td>Mali-G77 MC9</td><td>57</td></tr><tr><td>2022-09-13</td><td>42</td><td>Kirin 985</td><td>HiSilicon</td><td>Mali-G77 MP8</td><td>56</td></tr><tr><td>2022-09-13</td><td>43</td><td>Kirin 980</td><td>HiSilicon</td><td>Mali G76 MP10</td><td>56</td></tr><tr><td>2022-09-13</td><td>44</td><td>Exynos 1280</td><td>Samsung</td><td>Mali-G68</td><td>55</td></tr><tr><td>2022-09-13</td><td>45</td><td>Kirin 820</td><td>HiSilicon</td><td>Mali-G57 MP6</td><td>55</td></tr><tr><td>2022-09-13</td><td>46</td><td>Dimensity 820</td><td>MediaTek</td><td>Mali-G57 MC5</td><td>54</td></tr><tr><td>2022-09-13</td><td>47</td><td>Dimensity 900</td><td>MediaTek</td><td>Mali-G68 MC4</td><td>53</td></tr><tr><td>2022-09-13</td><td>48</td><td>Snapdragon 768G</td><td>Qualcomm</td><td>Adreno 620</td><td>53</td></tr><tr><td>2022-09-13</td><td>49</td><td>Snapdragon 845</td><td>Qualcomm</td><td>Adreno 630</td><td>52</td></tr><tr><td>2022-09-13</td><td>50</td><td>Snapdragon 695</td><td>Qualcomm</td><td>Adreno 619</td><td>51</td></tr><tr><td>2022-09-13</td><td>51</td><td>A11 Bionic</td><td>Apple</td><td>Apple GPU</td><td>51</td></tr><tr><td>2022-09-13</td><td>52</td><td>Exynos 9810</td><td>Samsung</td><td>Mali-G72MP18</td><td>50</td></tr><tr><td>2022-09-13</td><td>53</td><td>Exynos 980</td><td>Samsung</td><td>Mali G76 MP5</td><td>49</td></tr><tr><td>2022-09-13</td><td>54</td><td>Snapdragon 765G</td><td>Qualcomm</td><td>Adreno 620</td><td>49</td></tr><tr><td>2022-09-13</td><td>55</td><td>Dimensity 810</td><td>MediaTek</td><td>Mali-G57 MC2</td><td>48</td></tr><tr><td>2022-09-13</td><td>56</td><td>Dimensity 800U</td><td>MediaTek</td><td>Mali-G57 MC3</td><td>48</td></tr><tr><td>2022-09-13</td><td>57</td><td>Snapdragon 765</td><td>Qualcomm</td><td>Adreno 620</td><td>48</td></tr><tr><td>2022-09-13</td><td>58</td><td>Snapdragon 750G</td><td>Qualcomm</td><td>Adreno 619</td><td>47</td></tr><tr><td>2022-09-13</td><td>59</td><td>Kirin 810</td><td>HiSilicon</td><td>Mali-G52 MP6</td><td>47</td></tr><tr><td>2022-09-13</td><td>60</td><td>Dimensity 800</td><td>MediaTek</td><td>Mali-G57 MC4</td><td>46</td></tr><tr><td>2022-09-13</td><td>61</td><td>Snapdragon 732G</td><td>Qualcomm</td><td>Adreno 618</td><td>45</td></tr><tr><td>2022-09-13</td><td>62</td><td>Exynos 880</td><td>Samsung</td><td>Mali G76 MP5</td><td>45</td></tr><tr><td>2022-09-13</td><td>63</td><td>Snapdragon 480 Plus</td><td>Qualcomm</td><td>Adreno 619</td><td>44</td></tr><tr><td>2022-09-13</td><td>64</td><td>Dimensity 700</td><td>MediaTek</td><td>Mali-G57 MC2</td><td>44</td></tr><tr><td>2022-09-13</td><td>65</td><td>Dimensity 720</td><td>MediaTek</td><td>Mali-G57 MC3</td><td>44</td></tr><tr><td>2022-09-13</td><td>66</td><td>Snapdragon 690</td><td>Qualcomm</td><td>Adreno 619L</td><td>44</td></tr><tr><td>2022-09-13</td><td>67</td><td>Snapdragon 720G</td><td>Qualcomm</td><td>Adreno 618</td><td>44</td></tr><tr><td>2022-09-13</td><td>68</td><td>Helio G95</td><td>MediaTek</td><td>Mali-G76 3EEMC4</td><td>43</td></tr><tr><td>2022-09-13</td><td>69</td><td>Helio G90</td><td>MediaTek</td><td>Mali-G76 MC4</td><td>43</td></tr><tr><td>2022-09-13</td><td>70</td><td>Snapdragon 730G</td><td>Qualcomm</td><td>Adreno 618</td><td>43</td></tr><tr><td>2022-09-13</td><td>71</td><td>Helio G96</td><td>MediaTek</td><td>Mali G57 MC2</td><td>42</td></tr><tr><td>2022-09-13</td><td>72</td><td>Snapdragon 835</td><td>Qualcomm</td><td>Adreno 540</td><td>42</td></tr><tr><td>2022-09-13</td><td>73</td><td>Snapdragon 730</td><td>Qualcomm</td><td>Adreno 618</td><td>42</td></tr><tr><td>2022-09-13</td><td>74</td><td>Helio G90T</td><td>MediaTek</td><td>Mali-G76 MC4</td><td>41</td></tr><tr><td>2022-09-13</td><td>75</td><td>Snapdragon 480</td><td>Qualcomm</td><td>Adreno 619</td><td>40</td></tr><tr><td>2022-09-13</td><td>76</td><td>A10 Fusion</td><td>Apple</td><td>PowerVR GT7600</td><td>40</td></tr><tr><td>2022-09-13</td><td>77</td><td>Kirin 970</td><td>HiSilicon</td><td>Mali G72 MP12</td><td>39</td></tr><tr><td>2022-09-13</td><td>78</td><td>Exynos 8895</td><td>Samsung</td><td>Mali-G71 MP20</td><td>39</td></tr><tr><td>2022-09-13</td><td>79</td><td>Snapdragon 680</td><td>Qualcomm</td><td>Adreno 610</td><td>38</td></tr><tr><td>2022-09-13</td><td>80</td><td>Snapdragon 712</td><td>Qualcomm</td><td>Adreno 616</td><td>38</td></tr><tr><td>2022-09-13</td><td>81</td><td>Snapdragon 678</td><td>Qualcomm</td><td>Adreno 612</td><td>36</td></tr><tr><td>2022-09-13</td><td>82</td><td>Snapdragon 710</td><td>Qualcomm</td><td>Adreno 616</td><td>36</td></tr><tr><td>2022-09-13</td><td>83</td><td>Tiger T618</td><td>Unisoc</td><td>ARM Mali-G52 MP2</td><td>34</td></tr><tr><td>2022-09-13</td><td>84</td><td>Snapdragon 820</td><td>Qualcomm</td><td>Adreno 530</td><td>34</td></tr><tr><td>2022-09-13</td><td>85</td><td>Snapdragon 675</td><td>Qualcomm</td><td>Adreno 612</td><td>34</td></tr><tr><td>2022-09-13</td><td>86</td><td>Helio P90</td><td>MediaTek</td><td>PowerVR GM9446</td><td>34</td></tr><tr><td>2022-09-13</td><td>87</td><td>Helio G88</td><td>MediaTek</td><td>Mali-G52 MC2</td><td>33</td></tr><tr><td>2022-09-13</td><td>88</td><td>Helio G85</td><td>MediaTek</td><td>Mali-G52 MP2</td><td>33</td></tr><tr><td>2022-09-13</td><td>89</td><td>Helio G80</td><td>MediaTek</td><td>Mali-G52 MP2</td><td>33</td></tr><tr><td>2022-09-13</td><td>90</td><td>Helio P95</td><td>MediaTek</td><td>PowerVR GM9446</td><td>33</td></tr><tr><td>2022-09-13</td><td>91</td><td>Exynos 9611</td><td>Samsung</td><td>Mali-G72 MP3</td><td>33</td></tr><tr><td>2022-09-13</td><td>92</td><td>Kirin 960</td><td>HiSilicon</td><td>Mali-G71 MP8</td><td>33</td></tr><tr><td>2022-09-13</td><td>93</td><td>Exynos 9609</td><td>Samsung</td><td>Mali-G72 MP3</td><td>32</td></tr><tr><td>2022-09-13</td><td>94</td><td>Snapdragon 670</td><td>Qualcomm</td><td>Adreno 615</td><td>32</td></tr><tr><td>2022-09-13</td><td>95</td><td>Exynos 8890</td><td>Samsung</td><td>Mali-T880 MP12</td><td>32</td></tr><tr><td>2022-09-13</td><td>96</td><td>Tiger T616</td><td>Unisoc</td><td>Mali-G57 MP1</td><td>31</td></tr><tr><td>2022-09-13</td><td>97</td><td>Tiger T700</td><td>Unisoc</td><td>ARM Mali-G52 MC2</td><td>31</td></tr><tr><td>2022-09-13</td><td>98</td><td>Snapdragon 662</td><td>Qualcomm</td><td>Adreno 610</td><td>31</td></tr><tr><td>2022-09-13</td><td>99</td><td>Helio G70</td><td>MediaTek</td><td>Mali-G52 2EEMC2</td><td>31</td></tr><tr><td>2022-09-13</td><td>100</td><td>Apple A9</td><td>Apple</td><td>PowerVR GT7600</td><td>31</td></tr><tr><td>2022-09-13</td><td>101</td><td>Snapdragon 821</td><td>Qualcomm</td><td>Adreno 530</td><td>31</td></tr><tr><td>2022-09-13</td><td>102</td><td>Snapdragon 665</td><td>Qualcomm</td><td>Adreno 610</td><td>31</td></tr><tr><td>2022-09-13</td><td>103</td><td>Kirin 710F</td><td>HiSilicon</td><td>Mali-G51 MP4</td><td>30</td></tr><tr><td>2022-09-13</td><td>104</td><td>Helio P65</td><td>MediaTek</td><td>Mali-G52 MC2</td><td>30</td></tr><tr><td>2022-09-13</td><td>105</td><td>Helio P70</td><td>MediaTek</td><td>Mali-G72 MP3</td><td>30</td></tr><tr><td>2022-09-13</td><td>106</td><td>Exynos 9610</td><td>Samsung</td><td>Mali-G72 MP3</td><td>30</td></tr><tr><td>2022-09-13</td><td>107</td><td>Tiger T612</td><td>Unisoc</td><td>Mali-G57 MP1</td><td>29</td></tr><tr><td>2022-09-13</td><td>108</td><td>Kirin 710A</td><td>HiSilicon</td><td>Mali-G51</td><td>29</td></tr><tr><td>2022-09-13</td><td>109</td><td>Exynos 850</td><td>Samsung</td><td>Mali-G52 MP1</td><td>29</td></tr><tr><td>2022-09-13</td><td>110</td><td>Snapdragon 460</td><td>Qualcomm</td><td>Adreno 610</td><td>29</td></tr><tr><td>2022-09-13</td><td>111</td><td>Kirin 710</td><td>HiSilicon</td><td>Mali-G51 MP4</td><td>29</td></tr><tr><td>2022-09-13</td><td>112</td><td>Snapdragon 660</td><td>Qualcomm</td><td>Adreno 512</td><td>29</td></tr><tr><td>2022-09-13</td><td>113</td><td>Unisoc T606</td><td>Unisoc</td><td>Mali-G57 MP1</td><td>28</td></tr><tr><td>2022-09-13</td><td>114</td><td>Tiger T610</td><td>Unisoc</td><td>ARM Mali G52 MP2</td><td>28</td></tr><tr><td>2022-09-13</td><td>115</td><td>Helio P60</td><td>MediaTek</td><td>Mali-G72 MP3</td><td>28</td></tr><tr><td>2022-09-13</td><td>116</td><td>Helio G37</td><td>MediaTek</td><td>PowerVR GE8320</td><td>26</td></tr><tr><td>2022-09-13</td><td>117</td><td>Snapdragon 636</td><td>Qualcomm</td><td>Adreno 509</td><td>26</td></tr><tr><td>2022-09-13</td><td>118</td><td>Snapdragon 632</td><td>Qualcomm</td><td>Adreno 506</td><td>26</td></tr><tr><td>2022-09-13</td><td>119</td><td>Helio G35</td><td>MediaTek</td><td>IMG PowerVR GE8320</td><td>25</td></tr><tr><td>2022-09-13</td><td>120</td><td>Exynos 7904</td><td>Samsung</td><td>Mali-G71 MP2</td><td>25</td></tr><tr><td>2022-09-13</td><td>121</td><td>Helio P35</td><td>MediaTek</td><td>IMG PowerVR GE8320</td><td>25</td></tr><tr><td>2022-09-13</td><td>122</td><td>Exynos 7885</td><td>Samsung</td><td>Mali-G71 MP2</td><td>24</td></tr><tr><td>2022-09-13</td><td>123</td><td>Snapdragon 630</td><td>Qualcomm</td><td>Adreno 508</td><td>24</td></tr><tr><td>2022-09-13</td><td>124</td><td>Kirin 950</td><td>HiSilicon</td><td>Mali-T880 MP4</td><td>24</td></tr><tr><td>2022-09-13</td><td>125</td><td>Helio A25</td><td>MediaTek</td><td>PowerVR GE8320</td><td>23</td></tr></tbody></table></div>"
      ]
     },
     "metadata": {
      "application/vnd.databricks.v1+output": {
       "addedWidgets": {},
       "aggData": [],
       "aggError": "",
       "aggOverflow": false,
       "aggSchema": [],
       "aggSeriesLimitReached": false,
       "aggType": "",
       "arguments": {},
       "columnCustomDisplayInfos": {},
       "data": [
        [
         "2022-09-13",
         1,
         "A16 Bionic",
         "Apple",
         "Apple GPU",
         98
        ],
        [
         "2022-09-13",
         2,
         "A15 Bionic",
         "Apple",
         "Apple GPU",
         98
        ],
        [
         "2022-09-13",
         3,
         "Dimensity 9000 Plus",
         "MediaTek",
         "Mali-G710 MC10",
         97
        ],
        [
         "2022-09-13",
         4,
         "Snapdragon 8 Plus Gen 1",
         "Qualcomm",
         "Adreno 730",
         97
        ],
        [
         "2022-09-13",
         5,
         "Dimensity 9000",
         "MediaTek",
         "Mali-G710",
         96
        ],
        [
         "2022-09-13",
         6,
         "Snapdragon 8 Gen 1",
         "Qualcomm",
         "Adreno 730",
         94
        ],
        [
         "2022-09-13",
         7,
         "A14 Bionic",
         "Apple",
         "Apple GPU",
         92
        ],
        [
         "2022-09-13",
         8,
         "Snapdragon 888 Plus",
         "Qualcomm",
         "Adreno 660",
         91
        ],
        [
         "2022-09-13",
         9,
         "Exynos 2200",
         "Samsung",
         "Samsung Xclipse 920",
         90
        ],
        [
         "2022-09-13",
         10,
         "Snapdragon 888",
         "Qualcomm",
         "Adreno 660",
         90
        ],
        [
         "2022-09-13",
         11,
         "Dimensity 8100",
         "MediaTek",
         "Mali-G610 MC6",
         87
        ],
        [
         "2022-09-13",
         12,
         "Google Tensor",
         "Google",
         "Mali-G78 MP20",
         85
        ],
        [
         "2022-09-13",
         13,
         "Kirin 9000",
         "HiSilicon",
         "Mali-G78 MP24",
         85
        ],
        [
         "2022-09-13",
         14,
         "Exynos 2100",
         "Samsung",
         "Mali-G78 MP14",
         82
        ],
        [
         "2022-09-13",
         15,
         "A13 Bionic",
         "Apple",
         "Apple A13 Bionic GPU",
         81
        ],
        [
         "2022-09-13",
         16,
         "Snapdragon 870",
         "Qualcomm",
         "Adreno 650",
         78
        ],
        [
         "2022-09-13",
         17,
         "Kirin 9000E",
         "HiSilicon",
         "Mali-G78 MP22",
         78
        ],
        [
         "2022-09-13",
         18,
         "Exynos 1080",
         "Samsung",
         "Mali-G78 MP10",
         78
        ],
        [
         "2022-09-13",
         19,
         "Snapdragon 865 Plus",
         "Qualcomm",
         "Adreno 650",
         78
        ],
        [
         "2022-09-13",
         20,
         "Dimensity 1200",
         "MediaTek",
         "Mali-G77 MC9",
         77
        ],
        [
         "2022-09-13",
         21,
         "Dimensity 1300",
         "MediaTek",
         "Mali-G77 MC9",
         76
        ],
        [
         "2022-09-13",
         22,
         "Dimensity 8000",
         "MediaTek",
         "Mali-G610 MC6",
         76
        ],
        [
         "2022-09-13",
         23,
         "Snapdragon 865",
         "Qualcomm",
         "Adreno 650",
         74
        ],
        [
         "2022-09-13",
         24,
         "Snapdragon 7 Gen 1",
         "Qualcomm",
         "Adreno 662",
         71
        ],
        [
         "2022-09-13",
         25,
         "Dimensity 1100",
         "MediaTek",
         "Mali-G77 MC9",
         71
        ],
        [
         "2022-09-13",
         26,
         "Exynos 990",
         "Samsung",
         "Mali-G77 MP11",
         71
        ],
        [
         "2022-09-13",
         27,
         "Dimensity 1000 Plus",
         "MediaTek",
         "Mali-G77 MC9",
         69
        ],
        [
         "2022-09-13",
         28,
         "A12 Bionic",
         "Apple",
         "Apple A12 Bionic GPU",
         69
        ],
        [
         "2022-09-13",
         29,
         "Snapdragon 860",
         "Qualcomm",
         "Adreno 640",
         67
        ],
        [
         "2022-09-13",
         30,
         "Snapdragon 855 Plus",
         "Qualcomm",
         "Adreno 640",
         66
        ],
        [
         "2022-09-13",
         31,
         "Kirin 990 (5G)",
         "HiSilicon",
         "Mali G76 MP16",
         65
        ],
        [
         "2022-09-13",
         32,
         "Snapdragon 778G Plus",
         "Qualcomm",
         "Adreno 642L",
         64
        ],
        [
         "2022-09-13",
         33,
         "Snapdragon 780G",
         "Qualcomm",
         "Adreno 642",
         64
        ],
        [
         "2022-09-13",
         34,
         "Snapdragon 855",
         "Qualcomm",
         "Adreno 640",
         63
        ],
        [
         "2022-09-13",
         35,
         "Snapdragon 778G",
         "Qualcomm",
         "Adreno 642L",
         62
        ],
        [
         "2022-09-13",
         36,
         "Kirin 990 (4G)",
         "HiSilicon",
         "Mali G76 MP16",
         61
        ],
        [
         "2022-09-13",
         37,
         "Exynos 9820",
         "Samsung",
         "Mali G76 MP12",
         61
        ],
        [
         "2022-09-13",
         38,
         "Dimensity 920",
         "MediaTek",
         "Mali-G68 MC4",
         59
        ],
        [
         "2022-09-13",
         39,
         "Dimensity 1000",
         "MediaTek",
         "Mali-G77 MP9",
         59
        ],
        [
         "2022-09-13",
         40,
         "Exynos 9825",
         "Samsung",
         "Mali G76 MP12",
         59
        ],
        [
         "2022-09-13",
         41,
         "Dimensity 1000L",
         "MediaTek",
         "Mali-G77 MC9",
         57
        ],
        [
         "2022-09-13",
         42,
         "Kirin 985",
         "HiSilicon",
         "Mali-G77 MP8",
         56
        ],
        [
         "2022-09-13",
         43,
         "Kirin 980",
         "HiSilicon",
         "Mali G76 MP10",
         56
        ],
        [
         "2022-09-13",
         44,
         "Exynos 1280",
         "Samsung",
         "Mali-G68",
         55
        ],
        [
         "2022-09-13",
         45,
         "Kirin 820",
         "HiSilicon",
         "Mali-G57 MP6",
         55
        ],
        [
         "2022-09-13",
         46,
         "Dimensity 820",
         "MediaTek",
         "Mali-G57 MC5",
         54
        ],
        [
         "2022-09-13",
         47,
         "Dimensity 900",
         "MediaTek",
         "Mali-G68 MC4",
         53
        ],
        [
         "2022-09-13",
         48,
         "Snapdragon 768G",
         "Qualcomm",
         "Adreno 620",
         53
        ],
        [
         "2022-09-13",
         49,
         "Snapdragon 845",
         "Qualcomm",
         "Adreno 630",
         52
        ],
        [
         "2022-09-13",
         50,
         "Snapdragon 695",
         "Qualcomm",
         "Adreno 619",
         51
        ],
        [
         "2022-09-13",
         51,
         "A11 Bionic",
         "Apple",
         "Apple GPU",
         51
        ],
        [
         "2022-09-13",
         52,
         "Exynos 9810",
         "Samsung",
         "Mali-G72MP18",
         50
        ],
        [
         "2022-09-13",
         53,
         "Exynos 980",
         "Samsung",
         "Mali G76 MP5",
         49
        ],
        [
         "2022-09-13",
         54,
         "Snapdragon 765G",
         "Qualcomm",
         "Adreno 620",
         49
        ],
        [
         "2022-09-13",
         55,
         "Dimensity 810",
         "MediaTek",
         "Mali-G57 MC2",
         48
        ],
        [
         "2022-09-13",
         56,
         "Dimensity 800U",
         "MediaTek",
         "Mali-G57 MC3",
         48
        ],
        [
         "2022-09-13",
         57,
         "Snapdragon 765",
         "Qualcomm",
         "Adreno 620",
         48
        ],
        [
         "2022-09-13",
         58,
         "Snapdragon 750G",
         "Qualcomm",
         "Adreno 619",
         47
        ],
        [
         "2022-09-13",
         59,
         "Kirin 810",
         "HiSilicon",
         "Mali-G52 MP6",
         47
        ],
        [
         "2022-09-13",
         60,
         "Dimensity 800",
         "MediaTek",
         "Mali-G57 MC4",
         46
        ],
        [
         "2022-09-13",
         61,
         "Snapdragon 732G",
         "Qualcomm",
         "Adreno 618",
         45
        ],
        [
         "2022-09-13",
         62,
         "Exynos 880",
         "Samsung",
         "Mali G76 MP5",
         45
        ],
        [
         "2022-09-13",
         63,
         "Snapdragon 480 Plus",
         "Qualcomm",
         "Adreno 619",
         44
        ],
        [
         "2022-09-13",
         64,
         "Dimensity 700",
         "MediaTek",
         "Mali-G57 MC2",
         44
        ],
        [
         "2022-09-13",
         65,
         "Dimensity 720",
         "MediaTek",
         "Mali-G57 MC3",
         44
        ],
        [
         "2022-09-13",
         66,
         "Snapdragon 690",
         "Qualcomm",
         "Adreno 619L",
         44
        ],
        [
         "2022-09-13",
         67,
         "Snapdragon 720G",
         "Qualcomm",
         "Adreno 618",
         44
        ],
        [
         "2022-09-13",
         68,
         "Helio G95",
         "MediaTek",
         "Mali-G76 3EEMC4",
         43
        ],
        [
         "2022-09-13",
         69,
         "Helio G90",
         "MediaTek",
         "Mali-G76 MC4",
         43
        ],
        [
         "2022-09-13",
         70,
         "Snapdragon 730G",
         "Qualcomm",
         "Adreno 618",
         43
        ],
        [
         "2022-09-13",
         71,
         "Helio G96",
         "MediaTek",
         "Mali G57 MC2",
         42
        ],
        [
         "2022-09-13",
         72,
         "Snapdragon 835",
         "Qualcomm",
         "Adreno 540",
         42
        ],
        [
         "2022-09-13",
         73,
         "Snapdragon 730",
         "Qualcomm",
         "Adreno 618",
         42
        ],
        [
         "2022-09-13",
         74,
         "Helio G90T",
         "MediaTek",
         "Mali-G76 MC4",
         41
        ],
        [
         "2022-09-13",
         75,
         "Snapdragon 480",
         "Qualcomm",
         "Adreno 619",
         40
        ],
        [
         "2022-09-13",
         76,
         "A10 Fusion",
         "Apple",
         "PowerVR GT7600",
         40
        ],
        [
         "2022-09-13",
         77,
         "Kirin 970",
         "HiSilicon",
         "Mali G72 MP12",
         39
        ],
        [
         "2022-09-13",
         78,
         "Exynos 8895",
         "Samsung",
         "Mali-G71 MP20",
         39
        ],
        [
         "2022-09-13",
         79,
         "Snapdragon 680",
         "Qualcomm",
         "Adreno 610",
         38
        ],
        [
         "2022-09-13",
         80,
         "Snapdragon 712",
         "Qualcomm",
         "Adreno 616",
         38
        ],
        [
         "2022-09-13",
         81,
         "Snapdragon 678",
         "Qualcomm",
         "Adreno 612",
         36
        ],
        [
         "2022-09-13",
         82,
         "Snapdragon 710",
         "Qualcomm",
         "Adreno 616",
         36
        ],
        [
         "2022-09-13",
         83,
         "Tiger T618",
         "Unisoc",
         "ARM Mali-G52 MP2",
         34
        ],
        [
         "2022-09-13",
         84,
         "Snapdragon 820",
         "Qualcomm",
         "Adreno 530",
         34
        ],
        [
         "2022-09-13",
         85,
         "Snapdragon 675",
         "Qualcomm",
         "Adreno 612",
         34
        ],
        [
         "2022-09-13",
         86,
         "Helio P90",
         "MediaTek",
         "PowerVR GM9446",
         34
        ],
        [
         "2022-09-13",
         87,
         "Helio G88",
         "MediaTek",
         "Mali-G52 MC2",
         33
        ],
        [
         "2022-09-13",
         88,
         "Helio G85",
         "MediaTek",
         "Mali-G52 MP2",
         33
        ],
        [
         "2022-09-13",
         89,
         "Helio G80",
         "MediaTek",
         "Mali-G52 MP2",
         33
        ],
        [
         "2022-09-13",
         90,
         "Helio P95",
         "MediaTek",
         "PowerVR GM9446",
         33
        ],
        [
         "2022-09-13",
         91,
         "Exynos 9611",
         "Samsung",
         "Mali-G72 MP3",
         33
        ],
        [
         "2022-09-13",
         92,
         "Kirin 960",
         "HiSilicon",
         "Mali-G71 MP8",
         33
        ],
        [
         "2022-09-13",
         93,
         "Exynos 9609",
         "Samsung",
         "Mali-G72 MP3",
         32
        ],
        [
         "2022-09-13",
         94,
         "Snapdragon 670",
         "Qualcomm",
         "Adreno 615",
         32
        ],
        [
         "2022-09-13",
         95,
         "Exynos 8890",
         "Samsung",
         "Mali-T880 MP12",
         32
        ],
        [
         "2022-09-13",
         96,
         "Tiger T616",
         "Unisoc",
         "Mali-G57 MP1",
         31
        ],
        [
         "2022-09-13",
         97,
         "Tiger T700",
         "Unisoc",
         "ARM Mali-G52 MC2",
         31
        ],
        [
         "2022-09-13",
         98,
         "Snapdragon 662",
         "Qualcomm",
         "Adreno 610",
         31
        ],
        [
         "2022-09-13",
         99,
         "Helio G70",
         "MediaTek",
         "Mali-G52 2EEMC2",
         31
        ],
        [
         "2022-09-13",
         100,
         "Apple A9",
         "Apple",
         "PowerVR GT7600",
         31
        ],
        [
         "2022-09-13",
         101,
         "Snapdragon 821",
         "Qualcomm",
         "Adreno 530",
         31
        ],
        [
         "2022-09-13",
         102,
         "Snapdragon 665",
         "Qualcomm",
         "Adreno 610",
         31
        ],
        [
         "2022-09-13",
         103,
         "Kirin 710F",
         "HiSilicon",
         "Mali-G51 MP4",
         30
        ],
        [
         "2022-09-13",
         104,
         "Helio P65",
         "MediaTek",
         "Mali-G52 MC2",
         30
        ],
        [
         "2022-09-13",
         105,
         "Helio P70",
         "MediaTek",
         "Mali-G72 MP3",
         30
        ],
        [
         "2022-09-13",
         106,
         "Exynos 9610",
         "Samsung",
         "Mali-G72 MP3",
         30
        ],
        [
         "2022-09-13",
         107,
         "Tiger T612",
         "Unisoc",
         "Mali-G57 MP1",
         29
        ],
        [
         "2022-09-13",
         108,
         "Kirin 710A",
         "HiSilicon",
         "Mali-G51",
         29
        ],
        [
         "2022-09-13",
         109,
         "Exynos 850",
         "Samsung",
         "Mali-G52 MP1",
         29
        ],
        [
         "2022-09-13",
         110,
         "Snapdragon 460",
         "Qualcomm",
         "Adreno 610",
         29
        ],
        [
         "2022-09-13",
         111,
         "Kirin 710",
         "HiSilicon",
         "Mali-G51 MP4",
         29
        ],
        [
         "2022-09-13",
         112,
         "Snapdragon 660",
         "Qualcomm",
         "Adreno 512",
         29
        ],
        [
         "2022-09-13",
         113,
         "Unisoc T606",
         "Unisoc",
         "Mali-G57 MP1",
         28
        ],
        [
         "2022-09-13",
         114,
         "Tiger T610",
         "Unisoc",
         "ARM Mali G52 MP2",
         28
        ],
        [
         "2022-09-13",
         115,
         "Helio P60",
         "MediaTek",
         "Mali-G72 MP3",
         28
        ],
        [
         "2022-09-13",
         116,
         "Helio G37",
         "MediaTek",
         "PowerVR GE8320",
         26
        ],
        [
         "2022-09-13",
         117,
         "Snapdragon 636",
         "Qualcomm",
         "Adreno 509",
         26
        ],
        [
         "2022-09-13",
         118,
         "Snapdragon 632",
         "Qualcomm",
         "Adreno 506",
         26
        ],
        [
         "2022-09-13",
         119,
         "Helio G35",
         "MediaTek",
         "IMG PowerVR GE8320",
         25
        ],
        [
         "2022-09-13",
         120,
         "Exynos 7904",
         "Samsung",
         "Mali-G71 MP2",
         25
        ],
        [
         "2022-09-13",
         121,
         "Helio P35",
         "MediaTek",
         "IMG PowerVR GE8320",
         25
        ],
        [
         "2022-09-13",
         122,
         "Exynos 7885",
         "Samsung",
         "Mali-G71 MP2",
         24
        ],
        [
         "2022-09-13",
         123,
         "Snapdragon 630",
         "Qualcomm",
         "Adreno 508",
         24
        ],
        [
         "2022-09-13",
         124,
         "Kirin 950",
         "HiSilicon",
         "Mali-T880 MP4",
         24
        ],
        [
         "2022-09-13",
         125,
         "Helio A25",
         "MediaTek",
         "PowerVR GE8320",
         23
        ]
       ],
       "datasetInfos": [],
       "dbfsResultPath": null,
       "isJsonSchema": true,
       "metadata": {},
       "overflow": false,
       "plotOptions": {
        "customPlotOptions": {},
        "displayType": "table",
        "pivotAggregation": null,
        "pivotColumns": null,
        "xColumns": null,
        "yColumns": null
       },
       "removedWidgets": [],
       "schema": [
        {
         "metadata": "{}",
         "name": "process_dt",
         "type": "\"string\""
        },
        {
         "metadata": "{}",
         "name": "ranking",
         "type": "\"integer\""
        },
        {
         "metadata": "{}",
         "name": "cpu",
         "type": "\"string\""
        },
        {
         "metadata": "{}",
         "name": "manufacturer",
         "type": "\"string\""
        },
        {
         "metadata": "{}",
         "name": "gpu",
         "type": "\"string\""
        },
        {
         "metadata": "{}",
         "name": "score",
         "type": "\"integer\""
        }
       ],
       "type": "table"
      }
     },
     "output_type": "display_data"
    }
   ],
   "source": [
    "%sql\n",
    "SELECT * FROM cpu_ranking_clean"
   ]
  },
  {
   "cell_type": "markdown",
   "metadata": {
    "application/vnd.databricks.v1+cell": {
     "cellMetadata": {},
     "inputWidgets": {},
     "nuid": "6d458c7e-68b8-45a9-a491-999ff579ca48",
     "showTitle": false,
     "title": ""
    }
   },
   "source": [
    "Save results as a table to use in the model"
   ]
  },
  {
   "cell_type": "code",
   "execution_count": 0,
   "metadata": {
    "application/vnd.databricks.v1+cell": {
     "cellMetadata": {},
     "inputWidgets": {},
     "nuid": "d8953d54-dd32-40cc-926b-e8d35043f529",
     "showTitle": false,
     "title": ""
    }
   },
   "outputs": [
    {
     "output_type": "display_data",
     "data": {
      "text/html": [
       "<style scoped>\n",
       "  .ansiout {\n",
       "    display: block;\n",
       "    unicode-bidi: embed;\n",
       "    white-space: pre-wrap;\n",
       "    word-wrap: break-word;\n",
       "    word-break: break-all;\n",
       "    font-family: \"Source Code Pro\", \"Menlo\", monospace;;\n",
       "    font-size: 13px;\n",
       "    color: #555;\n",
       "    margin-left: 4px;\n",
       "    line-height: 19px;\n",
       "  }\n",
       "</style>\n",
       "<div class=\"ansiout\"></div>"
      ]
     },
     "metadata": {
      "application/vnd.databricks.v1+output": {
       "addedWidgets": {},
       "arguments": {},
       "data": "<div class=\"ansiout\"></div>",
       "datasetInfos": [],
       "metadata": {},
       "removedWidgets": [],
       "type": "html"
      }
     },
     "output_type": "display_data"
    }
   ],
   "source": [
    "#dbutils.fs.rm('dbfs:/mnt/jc-analytics-databricks-work/analytics/delta_work/juan_brekes/CPU_ranking/', True)"
   ]
  },
  {
   "cell_type": "code",
   "execution_count": 0,
   "metadata": {
    "application/vnd.databricks.v1+cell": {
     "cellMetadata": {
      "implicitDf": true
     },
     "inputWidgets": {},
     "nuid": "190eb4cd-c920-4cfc-ada0-870129259373",
     "showTitle": false,
     "title": ""
    }
   },
   "outputs": [],
   "source": [
    "%sql\n",
    "--DROP TABLE dv_analytics_work.cpu_ranking"
   ]
  },
  {
   "cell_type": "code",
   "execution_count": 0,
   "metadata": {
    "application/vnd.databricks.v1+cell": {
     "cellMetadata": {
      "implicitDf": true
     },
     "inputWidgets": {},
     "nuid": "05f0a065-9038-43ba-b8be-e5d8f8c2ab2f",
     "showTitle": false,
     "title": ""
    }
   },
   "outputs": [],
   "source": [
    "%sql\n",
    "--CREATE TABLE dv_analytics_work.cpu_ranking\n",
    "--USING DELTA\n",
    "--PARTITIONED BY (process_dt)\n",
    "--LOCATION 'dbfs:/mnt/jc-analytics-databricks-work/dv_analytics_adhoc/ATRIBEC_119_device_clustering_cpu_ranking' \n",
    "--AS \n",
    "--SELECT * FROM cpu_ranking_clean"
   ]
  },
  {
   "cell_type": "code",
   "execution_count": 0,
   "metadata": {
    "application/vnd.databricks.v1+cell": {
     "cellMetadata": {
      "implicitDf": true
     },
     "inputWidgets": {},
     "nuid": "ae9d8318-ad09-4b06-9287-abc4cf2f95f7",
     "showTitle": false,
     "title": ""
    }
   },
   "outputs": [
    {
     "output_type": "display_data",
     "data": {
      "text/html": [
       "<style scoped>\n",
       "  .table-result-container {\n",
       "    max-height: 300px;\n",
       "    overflow: auto;\n",
       "  }\n",
       "  table, th, td {\n",
       "    border: 1px solid black;\n",
       "    border-collapse: collapse;\n",
       "  }\n",
       "  th, td {\n",
       "    padding: 5px;\n",
       "  }\n",
       "  th {\n",
       "    text-align: left;\n",
       "  }\n",
       "</style><div class='table-result-container'><table class='table-result'><thead style='background-color: white'><tr><th>process_dt</th><th>ranking</th><th>cpu</th><th>manufacturer</th><th>gpu</th><th>score</th></tr></thead><tbody><tr><td>2022-08-11</td><td>58</td><td>Kirin 810</td><td>HiSilicon</td><td>Mali-G52 MP6</td><td>47</td></tr><tr><td>2022-08-11</td><td>67</td><td>Helio G95</td><td>MediaTek</td><td>Mali-G76 3EEMC4</td><td>43</td></tr><tr><td>2022-08-11</td><td>72</td><td>Snapdragon 835</td><td>Qualcomm</td><td>Adreno 540</td><td>42</td></tr><tr><td>2022-08-11</td><td>78</td><td>Exynos 8895</td><td>Samsung</td><td>Mali-G71 MP20</td><td>39</td></tr><tr><td>2022-08-11</td><td>88</td><td>Helio G80</td><td>MediaTek</td><td>Mali-G52 MP2</td><td>33</td></tr><tr><td>2022-08-11</td><td>93</td><td>Tiger T616</td><td>Unisoc</td><td>Mali-G57 MP1</td><td>32</td></tr><tr><td>2022-08-11</td><td>96</td><td>Tiger T700</td><td>Unisoc</td><td>ARM Mali-G52 MC2</td><td>31</td></tr><tr><td>2022-08-11</td><td>98</td><td>Helio G70</td><td>MediaTek</td><td>Mali-G52 2EEMC2</td><td>31</td></tr><tr><td>2022-08-11</td><td>24</td><td>Dimensity 1100</td><td>MediaTek</td><td>Mali-G77 MC9</td><td>71</td></tr><tr><td>2022-08-11</td><td>63</td><td>Dimensity 700</td><td>MediaTek</td><td>Mali-G57 MC2</td><td>44</td></tr><tr><td>2022-08-11</td><td>81</td><td>Snapdragon 710</td><td>Qualcomm</td><td>Adreno 616</td><td>36</td></tr><tr><td>2022-08-11</td><td>84</td><td>Snapdragon 820</td><td>Qualcomm</td><td>Adreno 530</td><td>34</td></tr><tr><td>2022-08-11</td><td>101</td><td>Snapdragon 665</td><td>Qualcomm</td><td>Adreno 610</td><td>31</td></tr><tr><td>2022-08-11</td><td>122</td><td>Snapdragon 630</td><td>Qualcomm</td><td>Adreno 508</td><td>24</td></tr><tr><td>2022-08-11</td><td>13</td><td>Exynos 2100</td><td>Samsung</td><td>Mali-G78 MP14</td><td>83</td></tr><tr><td>2022-08-11</td><td>43</td><td>Exynos 1280</td><td>Samsung</td><td>Mali-G68</td><td>55</td></tr><tr><td>2022-08-11</td><td>82</td><td>Helio P90</td><td>MediaTek</td><td>PowerVR GM9446</td><td>35</td></tr><tr><td>2022-08-11</td><td>50</td><td>A11 Bionic</td><td>Apple</td><td>Apple GPU</td><td>51</td></tr><tr><td>2022-08-11</td><td>74</td><td>A10 Fusion</td><td>Apple</td><td>PowerVR GT7600</td><td>41</td></tr><tr><td>2022-08-11</td><td>44</td><td>Kirin 820</td><td>HiSilicon</td><td>Mali-G57 MP6</td><td>55</td></tr><tr><td>2022-08-11</td><td>57</td><td>Snapdragon 750G</td><td>Qualcomm</td><td>Adreno 619</td><td>47</td></tr><tr><td>2022-08-11</td><td>89</td><td>Helio P95</td><td>MediaTek</td><td>PowerVR GM9446</td><td>33</td></tr><tr><td>2022-08-11</td><td>64</td><td>Dimensity 720</td><td>MediaTek</td><td>Mali-G57 MC3</td><td>44</td></tr><tr><td>2022-08-11</td><td>51</td><td>Exynos 9810</td><td>Samsung</td><td>Mali-G72MP18</td><td>51</td></tr><tr><td>2022-08-11</td><td>69</td><td>Snapdragon 730G</td><td>Qualcomm</td><td>Adreno 618</td><td>43</td></tr><tr><td>2022-08-11</td><td>56</td><td>Snapdragon 765</td><td>Qualcomm</td><td>Adreno 620</td><td>48</td></tr><tr><td>2022-08-11</td><td>94</td><td>Exynos 9609</td><td>Samsung</td><td>Mali-G72 MP3</td><td>32</td></tr><tr><td>2022-08-11</td><td>1</td><td>A15 Bionic</td><td>Apple</td><td>Apple GPU</td><td>98</td></tr><tr><td>2022-08-11</td><td>4</td><td>Dimensity 9000</td><td>MediaTek</td><td>Mali-G710</td><td>96</td></tr><tr><td>2022-08-11</td><td>11</td><td>Google Tensor</td><td>Google</td><td>Mali-G78 MP20</td><td>85</td></tr><tr><td>2022-08-11</td><td>17</td><td>Exynos 1080</td><td>Samsung</td><td>Mali-G78 MP10</td><td>78</td></tr><tr><td>2022-08-11</td><td>68</td><td>Helio G90</td><td>MediaTek</td><td>Mali-G76 MC4</td><td>43</td></tr><tr><td>2022-08-11</td><td>104</td><td>Helio P70</td><td>MediaTek</td><td>Mali-G72 MP3</td><td>30</td></tr><tr><td>2022-08-11</td><td>27</td><td>A12 Bionic</td><td>Apple</td><td>Apple A12 Bionic GPU</td><td>69</td></tr><tr><td>2022-08-11</td><td>77</td><td>Kirin 970</td><td>HiSilicon</td><td>Mali G72 MP12</td><td>39</td></tr><tr><td>2022-08-11</td><td>36</td><td>Exynos 9820</td><td>Samsung</td><td>Mali G76 MP12</td><td>61</td></tr><tr><td>2022-08-11</td><td>106</td><td>Exynos 9610</td><td>Samsung</td><td>Mali-G72 MP3</td><td>30</td></tr><tr><td>2022-08-11</td><td>3</td><td>Snapdragon 8 Plus Gen 1</td><td>Qualcomm</td><td>Adreno 730</td><td>97</td></tr><tr><td>2022-08-11</td><td>80</td><td>Snapdragon 678</td><td>Qualcomm</td><td>Adreno 612</td><td>36</td></tr><tr><td>2022-08-11</td><td>39</td><td>Exynos 9825</td><td>Samsung</td><td>Mali G76 MP12</td><td>59</td></tr><tr><td>2022-08-11</td><td>61</td><td>Exynos 880</td><td>Samsung</td><td>Mali G76 MP5</td><td>45</td></tr><tr><td>2022-08-11</td><td>5</td><td>Snapdragon 8 Gen 1</td><td>Qualcomm</td><td>Adreno 730</td><td>94</td></tr><tr><td>2022-08-11</td><td>108</td><td>Kirin 710A</td><td>HiSilicon</td><td>Mali-G51</td><td>29</td></tr><tr><td>2022-08-11</td><td>6</td><td>A14 Bionic</td><td>Apple</td><td>Apple GPU</td><td>92</td></tr><tr><td>2022-08-11</td><td>14</td><td>A13 Bionic</td><td>Apple</td><td>Apple A13 Bionic GPU</td><td>82</td></tr><tr><td>2022-08-11</td><td>25</td><td>Exynos 990</td><td>Samsung</td><td>Mali-G77 MP11</td><td>71</td></tr><tr><td>2022-08-11</td><td>53</td><td>Exynos 980</td><td>Samsung</td><td>Mali G76 MP5</td><td>49</td></tr><tr><td>2022-08-11</td><td>70</td><td>Helio G96</td><td>MediaTek</td><td>Mali G57 MC2</td><td>42</td></tr><tr><td>2022-08-11</td><td>71</td><td>Helio G90T</td><td>MediaTek</td><td>Mali-G76 MC4</td><td>42</td></tr><tr><td>2022-08-11</td><td>62</td><td>Snapdragon 480 Plus</td><td>Qualcomm</td><td>Adreno 619</td><td>44</td></tr><tr><td>2022-08-11</td><td>7</td><td>Snapdragon 888 Plus</td><td>Qualcomm</td><td>Adreno 660</td><td>91</td></tr><tr><td>2022-08-11</td><td>124</td><td>Helio A25</td><td>MediaTek</td><td>PowerVR GE8320</td><td>23</td></tr><tr><td>2022-08-11</td><td>86</td><td>Helio G88</td><td>MediaTek</td><td>Mali-G52 MC2</td><td>33</td></tr><tr><td>2022-08-11</td><td>8</td><td>Exynos 2200</td><td>Samsung</td><td>Samsung Xclipse 920</td><td>90</td></tr><tr><td>2022-08-11</td><td>87</td><td>Helio G85</td><td>MediaTek</td><td>Mali-G52 MP2</td><td>33</td></tr><tr><td>2022-08-11</td><td>73</td><td>Snapdragon 730</td><td>Qualcomm</td><td>Adreno 618</td><td>42</td></tr><tr><td>2022-08-11</td><td>10</td><td>Dimensity 8100</td><td>MediaTek</td><td>Mali-G610 MC6</td><td>88</td></tr><tr><td>2022-08-11</td><td>90</td><td>Exynos 9611</td><td>Samsung</td><td>Mali-G72 MP3</td><td>33</td></tr><tr><td>2022-08-11</td><td>112</td><td>Unisoc T606</td><td>Unisoc</td><td>Mali-G57 MP1</td><td>28</td></tr><tr><td>2022-08-11</td><td>79</td><td>Snapdragon 712</td><td>Qualcomm</td><td>Adreno 616</td><td>38</td></tr><tr><td>2022-08-11</td><td>12</td><td>Kirin 9000</td><td>HiSilicon</td><td>Mali-G78 MP24</td><td>85</td></tr><tr><td>2022-08-11</td><td>114</td><td>Helio P60</td><td>MediaTek</td><td>Mali-G72 MP3</td><td>28</td></tr><tr><td>2022-08-11</td><td>91</td><td>Kirin 960</td><td>HiSilicon</td><td>Mali-G71 MP8</td><td>33</td></tr><tr><td>2022-08-11</td><td>15</td><td>Snapdragon 870</td><td>Qualcomm</td><td>Adreno 650</td><td>78</td></tr><tr><td>2022-08-11</td><td>92</td><td>Snapdragon 670</td><td>Qualcomm</td><td>Adreno 615</td><td>33</td></tr><tr><td>2022-08-11</td><td>85</td><td>Snapdragon 675</td><td>Qualcomm</td><td>Adreno 612</td><td>34</td></tr><tr><td>2022-08-11</td><td>110</td><td>Snapdragon 460</td><td>Qualcomm</td><td>Adreno 610</td><td>29</td></tr><tr><td>2022-08-11</td><td>95</td><td>Exynos 8890</td><td>Samsung</td><td>Mali-T880 MP12</td><td>32</td></tr><tr><td>2022-08-11</td><td>16</td><td>Kirin 9000E</td><td>HiSilicon</td><td>Mali-G78 MP22</td><td>78</td></tr><tr><td>2022-08-11</td><td>99</td><td>Apple A9</td><td>Apple</td><td>PowerVR GT7600</td><td>31</td></tr><tr><td>2022-08-11</td><td>18</td><td>Snapdragon 865 Plus</td><td>Qualcomm</td><td>Adreno 650</td><td>78</td></tr><tr><td>2022-08-11</td><td>97</td><td>Snapdragon 662</td><td>Qualcomm</td><td>Adreno 610</td><td>31</td></tr><tr><td>2022-08-11</td><td>103</td><td>Helio P65</td><td>MediaTek</td><td>Mali-G52 MC2</td><td>30</td></tr><tr><td>2022-08-11</td><td>21</td><td>Dimensity 8000</td><td>MediaTek</td><td>Mali-G610 MC6</td><td>76</td></tr><tr><td>2022-08-11</td><td>100</td><td>Snapdragon 821</td><td>Qualcomm</td><td>Adreno 530</td><td>31</td></tr><tr><td>2022-08-11</td><td>105</td><td>Kirin 710</td><td>HiSilicon</td><td>Mali-G51 MP4</td><td>30</td></tr><tr><td>2022-08-11</td><td>22</td><td>Snapdragon 865</td><td>Qualcomm</td><td>Adreno 650</td><td>74</td></tr><tr><td>2022-08-11</td><td>102</td><td>Kirin 710F</td><td>HiSilicon</td><td>Mali-G51 MP4</td><td>30</td></tr><tr><td>2022-08-11</td><td>23</td><td>Snapdragon 7 Gen 1</td><td>Qualcomm</td><td>Adreno 662</td><td>72</td></tr><tr><td>2022-08-11</td><td>107</td><td>Tiger T612</td><td>Unisoc</td><td>Mali-G57 MP1</td><td>29</td></tr><tr><td>2022-08-11</td><td>29</td><td>Snapdragon 855 Plus</td><td>Qualcomm</td><td>Adreno 640</td><td>66</td></tr><tr><td>2022-08-11</td><td>120</td><td>Helio P35</td><td>MediaTek</td><td>IMG PowerVR GE8320</td><td>25</td></tr><tr><td>2022-08-11</td><td>109</td><td>Exynos 850</td><td>Samsung</td><td>Mali-G52 MP1</td><td>29</td></tr><tr><td>2022-08-11</td><td>30</td><td>Kirin 990 (5G)</td><td>HiSilicon</td><td>Mali G76 MP16</td><td>65</td></tr><tr><td>2022-08-11</td><td>113</td><td>Tiger T610</td><td>Unisoc</td><td>ARM Mali G52 MP2</td><td>28</td></tr><tr><td>2022-08-11</td><td>33</td><td>Snapdragon 855</td><td>Qualcomm</td><td>Adreno 640</td><td>64</td></tr><tr><td>2022-08-11</td><td>115</td><td>Helio G37</td><td>MediaTek</td><td>PowerVR GE8320</td><td>27</td></tr><tr><td>2022-08-11</td><td>35</td><td>Kirin 990 (4G)</td><td>HiSilicon</td><td>Mali G76 MP16</td><td>62</td></tr><tr><td>2022-08-11</td><td>119</td><td>Exynos 7904</td><td>Samsung</td><td>Mali-G71 MP2</td><td>25</td></tr><tr><td>2022-08-11</td><td>40</td><td>Dimensity 1000L</td><td>MediaTek</td><td>Mali-G77 MC9</td><td>57</td></tr><tr><td>2022-08-11</td><td>41</td><td>Kirin 985</td><td>HiSilicon</td><td>Mali-G77 MP8</td><td>56</td></tr><tr><td>2022-08-11</td><td>121</td><td>Exynos 7885</td><td>Samsung</td><td>Mali-G71 MP2</td><td>24</td></tr><tr><td>2022-08-11</td><td>123</td><td>Kirin 950</td><td>HiSilicon</td><td>Mali-T880 MP4</td><td>24</td></tr><tr><td>2022-08-11</td><td>46</td><td>Snapdragon 768G</td><td>Qualcomm</td><td>Adreno 620</td><td>54</td></tr><tr><td>2022-08-11</td><td>47</td><td>Dimensity 900</td><td>MediaTek</td><td>Mali-G68 MC4</td><td>53</td></tr><tr><td>2022-08-11</td><td>2</td><td>Dimensity 9000 Plus</td><td>MediaTek</td><td>Mali-G710 MC10</td><td>97</td></tr><tr><td>2022-08-11</td><td>52</td><td>Dimensity 800U</td><td>MediaTek</td><td>Mali-G57 MC3</td><td>49</td></tr><tr><td>2022-08-11</td><td>9</td><td>Snapdragon 888</td><td>Qualcomm</td><td>Adreno 660</td><td>90</td></tr><tr><td>2022-08-11</td><td>55</td><td>Dimensity 810</td><td>MediaTek</td><td>Mali-G57 MC2</td><td>48</td></tr><tr><td>2022-08-11</td><td>19</td><td>Dimensity 1300</td><td>MediaTek</td><td>Mali-G77 MC9</td><td>77</td></tr><tr><td>2022-08-11</td><td>125</td><td>Helio G25</td><td>MediaTek</td><td>IMG PowerVR GE8320</td><td>23</td></tr><tr><td>2022-08-11</td><td>20</td><td>Dimensity 1200</td><td>MediaTek</td><td>Mali-G77 MC9</td><td>77</td></tr><tr><td>2022-08-11</td><td>26</td><td>Dimensity 1000 Plus</td><td>MediaTek</td><td>Mali-G77 MC9</td><td>69</td></tr><tr><td>2022-08-11</td><td>28</td><td>Snapdragon 860</td><td>Qualcomm</td><td>Adreno 640</td><td>67</td></tr><tr><td>2022-08-11</td><td>31</td><td>Snapdragon 778G Plus</td><td>Qualcomm</td><td>Adreno 642L</td><td>64</td></tr><tr><td>2022-08-11</td><td>32</td><td>Snapdragon 780G</td><td>Qualcomm</td><td>Adreno 642</td><td>64</td></tr><tr><td>2022-08-11</td><td>34</td><td>Snapdragon 778G</td><td>Qualcomm</td><td>Adreno 642L</td><td>62</td></tr><tr><td>2022-08-11</td><td>37</td><td>Dimensity 920</td><td>MediaTek</td><td>Mali-G68 MC4</td><td>60</td></tr><tr><td>2022-08-11</td><td>38</td><td>Dimensity 1000</td><td>MediaTek</td><td>Mali-G77 MP9</td><td>60</td></tr><tr><td>2022-08-11</td><td>42</td><td>Kirin 980</td><td>HiSilicon</td><td>Mali G76 MP10</td><td>56</td></tr><tr><td>2022-08-11</td><td>45</td><td>Dimensity 820</td><td>MediaTek</td><td>Mali-G57 MC5</td><td>54</td></tr><tr><td>2022-08-11</td><td>48</td><td>Snapdragon 845</td><td>Qualcomm</td><td>Adreno 630</td><td>52</td></tr><tr><td>2022-08-11</td><td>49</td><td>Snapdragon 695</td><td>Qualcomm</td><td>Adreno 619</td><td>51</td></tr><tr><td>2022-08-11</td><td>54</td><td>Snapdragon 765G</td><td>Qualcomm</td><td>Adreno 620</td><td>49</td></tr><tr><td>2022-08-11</td><td>59</td><td>Dimensity 800</td><td>MediaTek</td><td>Mali-G57 MC4</td><td>46</td></tr><tr><td>2022-08-11</td><td>60</td><td>Snapdragon 732G</td><td>Qualcomm</td><td>Adreno 618</td><td>45</td></tr><tr><td>2022-08-11</td><td>65</td><td>Snapdragon 690</td><td>Qualcomm</td><td>Adreno 619L</td><td>44</td></tr><tr><td>2022-08-11</td><td>66</td><td>Snapdragon 720G</td><td>Qualcomm</td><td>Adreno 618</td><td>44</td></tr><tr><td>2022-08-11</td><td>75</td><td>Snapdragon 480</td><td>Qualcomm</td><td>Adreno 619</td><td>40</td></tr><tr><td>2022-08-11</td><td>76</td><td>Snapdragon 680</td><td>Qualcomm</td><td>Adreno 610</td><td>39</td></tr><tr><td>2022-08-11</td><td>83</td><td>Tiger T618</td><td>Unisoc</td><td>ARM Mali-G52 MP2</td><td>34</td></tr><tr><td>2022-08-11</td><td>111</td><td>Snapdragon 660</td><td>Qualcomm</td><td>Adreno 512</td><td>29</td></tr><tr><td>2022-08-11</td><td>116</td><td>Snapdragon 636</td><td>Qualcomm</td><td>Adreno 509</td><td>26</td></tr><tr><td>2022-08-11</td><td>117</td><td>Snapdragon 632</td><td>Qualcomm</td><td>Adreno 506</td><td>26</td></tr><tr><td>2022-08-11</td><td>118</td><td>Helio G35</td><td>MediaTek</td><td>IMG PowerVR GE8320</td><td>25</td></tr></tbody></table></div>"
      ]
     },
     "metadata": {
      "application/vnd.databricks.v1+output": {
       "addedWidgets": {},
       "aggData": [],
       "aggError": "",
       "aggOverflow": false,
       "aggSchema": [],
       "aggSeriesLimitReached": false,
       "aggType": "",
       "arguments": {},
       "columnCustomDisplayInfos": {},
       "data": [
        [
         "2022-08-11",
         58,
         "Kirin 810",
         "HiSilicon",
         "Mali-G52 MP6",
         47
        ],
        [
         "2022-08-11",
         67,
         "Helio G95",
         "MediaTek",
         "Mali-G76 3EEMC4",
         43
        ],
        [
         "2022-08-11",
         72,
         "Snapdragon 835",
         "Qualcomm",
         "Adreno 540",
         42
        ],
        [
         "2022-08-11",
         78,
         "Exynos 8895",
         "Samsung",
         "Mali-G71 MP20",
         39
        ],
        [
         "2022-08-11",
         88,
         "Helio G80",
         "MediaTek",
         "Mali-G52 MP2",
         33
        ],
        [
         "2022-08-11",
         93,
         "Tiger T616",
         "Unisoc",
         "Mali-G57 MP1",
         32
        ],
        [
         "2022-08-11",
         96,
         "Tiger T700",
         "Unisoc",
         "ARM Mali-G52 MC2",
         31
        ],
        [
         "2022-08-11",
         98,
         "Helio G70",
         "MediaTek",
         "Mali-G52 2EEMC2",
         31
        ],
        [
         "2022-08-11",
         24,
         "Dimensity 1100",
         "MediaTek",
         "Mali-G77 MC9",
         71
        ],
        [
         "2022-08-11",
         63,
         "Dimensity 700",
         "MediaTek",
         "Mali-G57 MC2",
         44
        ],
        [
         "2022-08-11",
         81,
         "Snapdragon 710",
         "Qualcomm",
         "Adreno 616",
         36
        ],
        [
         "2022-08-11",
         84,
         "Snapdragon 820",
         "Qualcomm",
         "Adreno 530",
         34
        ],
        [
         "2022-08-11",
         101,
         "Snapdragon 665",
         "Qualcomm",
         "Adreno 610",
         31
        ],
        [
         "2022-08-11",
         122,
         "Snapdragon 630",
         "Qualcomm",
         "Adreno 508",
         24
        ],
        [
         "2022-08-11",
         13,
         "Exynos 2100",
         "Samsung",
         "Mali-G78 MP14",
         83
        ],
        [
         "2022-08-11",
         43,
         "Exynos 1280",
         "Samsung",
         "Mali-G68",
         55
        ],
        [
         "2022-08-11",
         82,
         "Helio P90",
         "MediaTek",
         "PowerVR GM9446",
         35
        ],
        [
         "2022-08-11",
         50,
         "A11 Bionic",
         "Apple",
         "Apple GPU",
         51
        ],
        [
         "2022-08-11",
         74,
         "A10 Fusion",
         "Apple",
         "PowerVR GT7600",
         41
        ],
        [
         "2022-08-11",
         44,
         "Kirin 820",
         "HiSilicon",
         "Mali-G57 MP6",
         55
        ],
        [
         "2022-08-11",
         57,
         "Snapdragon 750G",
         "Qualcomm",
         "Adreno 619",
         47
        ],
        [
         "2022-08-11",
         89,
         "Helio P95",
         "MediaTek",
         "PowerVR GM9446",
         33
        ],
        [
         "2022-08-11",
         64,
         "Dimensity 720",
         "MediaTek",
         "Mali-G57 MC3",
         44
        ],
        [
         "2022-08-11",
         51,
         "Exynos 9810",
         "Samsung",
         "Mali-G72MP18",
         51
        ],
        [
         "2022-08-11",
         69,
         "Snapdragon 730G",
         "Qualcomm",
         "Adreno 618",
         43
        ],
        [
         "2022-08-11",
         56,
         "Snapdragon 765",
         "Qualcomm",
         "Adreno 620",
         48
        ],
        [
         "2022-08-11",
         94,
         "Exynos 9609",
         "Samsung",
         "Mali-G72 MP3",
         32
        ],
        [
         "2022-08-11",
         1,
         "A15 Bionic",
         "Apple",
         "Apple GPU",
         98
        ],
        [
         "2022-08-11",
         4,
         "Dimensity 9000",
         "MediaTek",
         "Mali-G710",
         96
        ],
        [
         "2022-08-11",
         11,
         "Google Tensor",
         "Google",
         "Mali-G78 MP20",
         85
        ],
        [
         "2022-08-11",
         17,
         "Exynos 1080",
         "Samsung",
         "Mali-G78 MP10",
         78
        ],
        [
         "2022-08-11",
         68,
         "Helio G90",
         "MediaTek",
         "Mali-G76 MC4",
         43
        ],
        [
         "2022-08-11",
         104,
         "Helio P70",
         "MediaTek",
         "Mali-G72 MP3",
         30
        ],
        [
         "2022-08-11",
         27,
         "A12 Bionic",
         "Apple",
         "Apple A12 Bionic GPU",
         69
        ],
        [
         "2022-08-11",
         77,
         "Kirin 970",
         "HiSilicon",
         "Mali G72 MP12",
         39
        ],
        [
         "2022-08-11",
         36,
         "Exynos 9820",
         "Samsung",
         "Mali G76 MP12",
         61
        ],
        [
         "2022-08-11",
         106,
         "Exynos 9610",
         "Samsung",
         "Mali-G72 MP3",
         30
        ],
        [
         "2022-08-11",
         3,
         "Snapdragon 8 Plus Gen 1",
         "Qualcomm",
         "Adreno 730",
         97
        ],
        [
         "2022-08-11",
         80,
         "Snapdragon 678",
         "Qualcomm",
         "Adreno 612",
         36
        ],
        [
         "2022-08-11",
         39,
         "Exynos 9825",
         "Samsung",
         "Mali G76 MP12",
         59
        ],
        [
         "2022-08-11",
         61,
         "Exynos 880",
         "Samsung",
         "Mali G76 MP5",
         45
        ],
        [
         "2022-08-11",
         5,
         "Snapdragon 8 Gen 1",
         "Qualcomm",
         "Adreno 730",
         94
        ],
        [
         "2022-08-11",
         108,
         "Kirin 710A",
         "HiSilicon",
         "Mali-G51",
         29
        ],
        [
         "2022-08-11",
         6,
         "A14 Bionic",
         "Apple",
         "Apple GPU",
         92
        ],
        [
         "2022-08-11",
         14,
         "A13 Bionic",
         "Apple",
         "Apple A13 Bionic GPU",
         82
        ],
        [
         "2022-08-11",
         25,
         "Exynos 990",
         "Samsung",
         "Mali-G77 MP11",
         71
        ],
        [
         "2022-08-11",
         53,
         "Exynos 980",
         "Samsung",
         "Mali G76 MP5",
         49
        ],
        [
         "2022-08-11",
         70,
         "Helio G96",
         "MediaTek",
         "Mali G57 MC2",
         42
        ],
        [
         "2022-08-11",
         71,
         "Helio G90T",
         "MediaTek",
         "Mali-G76 MC4",
         42
        ],
        [
         "2022-08-11",
         62,
         "Snapdragon 480 Plus",
         "Qualcomm",
         "Adreno 619",
         44
        ],
        [
         "2022-08-11",
         7,
         "Snapdragon 888 Plus",
         "Qualcomm",
         "Adreno 660",
         91
        ],
        [
         "2022-08-11",
         124,
         "Helio A25",
         "MediaTek",
         "PowerVR GE8320",
         23
        ],
        [
         "2022-08-11",
         86,
         "Helio G88",
         "MediaTek",
         "Mali-G52 MC2",
         33
        ],
        [
         "2022-08-11",
         8,
         "Exynos 2200",
         "Samsung",
         "Samsung Xclipse 920",
         90
        ],
        [
         "2022-08-11",
         87,
         "Helio G85",
         "MediaTek",
         "Mali-G52 MP2",
         33
        ],
        [
         "2022-08-11",
         73,
         "Snapdragon 730",
         "Qualcomm",
         "Adreno 618",
         42
        ],
        [
         "2022-08-11",
         10,
         "Dimensity 8100",
         "MediaTek",
         "Mali-G610 MC6",
         88
        ],
        [
         "2022-08-11",
         90,
         "Exynos 9611",
         "Samsung",
         "Mali-G72 MP3",
         33
        ],
        [
         "2022-08-11",
         112,
         "Unisoc T606",
         "Unisoc",
         "Mali-G57 MP1",
         28
        ],
        [
         "2022-08-11",
         79,
         "Snapdragon 712",
         "Qualcomm",
         "Adreno 616",
         38
        ],
        [
         "2022-08-11",
         12,
         "Kirin 9000",
         "HiSilicon",
         "Mali-G78 MP24",
         85
        ],
        [
         "2022-08-11",
         114,
         "Helio P60",
         "MediaTek",
         "Mali-G72 MP3",
         28
        ],
        [
         "2022-08-11",
         91,
         "Kirin 960",
         "HiSilicon",
         "Mali-G71 MP8",
         33
        ],
        [
         "2022-08-11",
         15,
         "Snapdragon 870",
         "Qualcomm",
         "Adreno 650",
         78
        ],
        [
         "2022-08-11",
         92,
         "Snapdragon 670",
         "Qualcomm",
         "Adreno 615",
         33
        ],
        [
         "2022-08-11",
         85,
         "Snapdragon 675",
         "Qualcomm",
         "Adreno 612",
         34
        ],
        [
         "2022-08-11",
         110,
         "Snapdragon 460",
         "Qualcomm",
         "Adreno 610",
         29
        ],
        [
         "2022-08-11",
         95,
         "Exynos 8890",
         "Samsung",
         "Mali-T880 MP12",
         32
        ],
        [
         "2022-08-11",
         16,
         "Kirin 9000E",
         "HiSilicon",
         "Mali-G78 MP22",
         78
        ],
        [
         "2022-08-11",
         99,
         "Apple A9",
         "Apple",
         "PowerVR GT7600",
         31
        ],
        [
         "2022-08-11",
         18,
         "Snapdragon 865 Plus",
         "Qualcomm",
         "Adreno 650",
         78
        ],
        [
         "2022-08-11",
         97,
         "Snapdragon 662",
         "Qualcomm",
         "Adreno 610",
         31
        ],
        [
         "2022-08-11",
         103,
         "Helio P65",
         "MediaTek",
         "Mali-G52 MC2",
         30
        ],
        [
         "2022-08-11",
         21,
         "Dimensity 8000",
         "MediaTek",
         "Mali-G610 MC6",
         76
        ],
        [
         "2022-08-11",
         100,
         "Snapdragon 821",
         "Qualcomm",
         "Adreno 530",
         31
        ],
        [
         "2022-08-11",
         105,
         "Kirin 710",
         "HiSilicon",
         "Mali-G51 MP4",
         30
        ],
        [
         "2022-08-11",
         22,
         "Snapdragon 865",
         "Qualcomm",
         "Adreno 650",
         74
        ],
        [
         "2022-08-11",
         102,
         "Kirin 710F",
         "HiSilicon",
         "Mali-G51 MP4",
         30
        ],
        [
         "2022-08-11",
         23,
         "Snapdragon 7 Gen 1",
         "Qualcomm",
         "Adreno 662",
         72
        ],
        [
         "2022-08-11",
         107,
         "Tiger T612",
         "Unisoc",
         "Mali-G57 MP1",
         29
        ],
        [
         "2022-08-11",
         29,
         "Snapdragon 855 Plus",
         "Qualcomm",
         "Adreno 640",
         66
        ],
        [
         "2022-08-11",
         120,
         "Helio P35",
         "MediaTek",
         "IMG PowerVR GE8320",
         25
        ],
        [
         "2022-08-11",
         109,
         "Exynos 850",
         "Samsung",
         "Mali-G52 MP1",
         29
        ],
        [
         "2022-08-11",
         30,
         "Kirin 990 (5G)",
         "HiSilicon",
         "Mali G76 MP16",
         65
        ],
        [
         "2022-08-11",
         113,
         "Tiger T610",
         "Unisoc",
         "ARM Mali G52 MP2",
         28
        ],
        [
         "2022-08-11",
         33,
         "Snapdragon 855",
         "Qualcomm",
         "Adreno 640",
         64
        ],
        [
         "2022-08-11",
         115,
         "Helio G37",
         "MediaTek",
         "PowerVR GE8320",
         27
        ],
        [
         "2022-08-11",
         35,
         "Kirin 990 (4G)",
         "HiSilicon",
         "Mali G76 MP16",
         62
        ],
        [
         "2022-08-11",
         119,
         "Exynos 7904",
         "Samsung",
         "Mali-G71 MP2",
         25
        ],
        [
         "2022-08-11",
         40,
         "Dimensity 1000L",
         "MediaTek",
         "Mali-G77 MC9",
         57
        ],
        [
         "2022-08-11",
         41,
         "Kirin 985",
         "HiSilicon",
         "Mali-G77 MP8",
         56
        ],
        [
         "2022-08-11",
         121,
         "Exynos 7885",
         "Samsung",
         "Mali-G71 MP2",
         24
        ],
        [
         "2022-08-11",
         123,
         "Kirin 950",
         "HiSilicon",
         "Mali-T880 MP4",
         24
        ],
        [
         "2022-08-11",
         46,
         "Snapdragon 768G",
         "Qualcomm",
         "Adreno 620",
         54
        ],
        [
         "2022-08-11",
         47,
         "Dimensity 900",
         "MediaTek",
         "Mali-G68 MC4",
         53
        ],
        [
         "2022-08-11",
         2,
         "Dimensity 9000 Plus",
         "MediaTek",
         "Mali-G710 MC10",
         97
        ],
        [
         "2022-08-11",
         52,
         "Dimensity 800U",
         "MediaTek",
         "Mali-G57 MC3",
         49
        ],
        [
         "2022-08-11",
         9,
         "Snapdragon 888",
         "Qualcomm",
         "Adreno 660",
         90
        ],
        [
         "2022-08-11",
         55,
         "Dimensity 810",
         "MediaTek",
         "Mali-G57 MC2",
         48
        ],
        [
         "2022-08-11",
         19,
         "Dimensity 1300",
         "MediaTek",
         "Mali-G77 MC9",
         77
        ],
        [
         "2022-08-11",
         125,
         "Helio G25",
         "MediaTek",
         "IMG PowerVR GE8320",
         23
        ],
        [
         "2022-08-11",
         20,
         "Dimensity 1200",
         "MediaTek",
         "Mali-G77 MC9",
         77
        ],
        [
         "2022-08-11",
         26,
         "Dimensity 1000 Plus",
         "MediaTek",
         "Mali-G77 MC9",
         69
        ],
        [
         "2022-08-11",
         28,
         "Snapdragon 860",
         "Qualcomm",
         "Adreno 640",
         67
        ],
        [
         "2022-08-11",
         31,
         "Snapdragon 778G Plus",
         "Qualcomm",
         "Adreno 642L",
         64
        ],
        [
         "2022-08-11",
         32,
         "Snapdragon 780G",
         "Qualcomm",
         "Adreno 642",
         64
        ],
        [
         "2022-08-11",
         34,
         "Snapdragon 778G",
         "Qualcomm",
         "Adreno 642L",
         62
        ],
        [
         "2022-08-11",
         37,
         "Dimensity 920",
         "MediaTek",
         "Mali-G68 MC4",
         60
        ],
        [
         "2022-08-11",
         38,
         "Dimensity 1000",
         "MediaTek",
         "Mali-G77 MP9",
         60
        ],
        [
         "2022-08-11",
         42,
         "Kirin 980",
         "HiSilicon",
         "Mali G76 MP10",
         56
        ],
        [
         "2022-08-11",
         45,
         "Dimensity 820",
         "MediaTek",
         "Mali-G57 MC5",
         54
        ],
        [
         "2022-08-11",
         48,
         "Snapdragon 845",
         "Qualcomm",
         "Adreno 630",
         52
        ],
        [
         "2022-08-11",
         49,
         "Snapdragon 695",
         "Qualcomm",
         "Adreno 619",
         51
        ],
        [
         "2022-08-11",
         54,
         "Snapdragon 765G",
         "Qualcomm",
         "Adreno 620",
         49
        ],
        [
         "2022-08-11",
         59,
         "Dimensity 800",
         "MediaTek",
         "Mali-G57 MC4",
         46
        ],
        [
         "2022-08-11",
         60,
         "Snapdragon 732G",
         "Qualcomm",
         "Adreno 618",
         45
        ],
        [
         "2022-08-11",
         65,
         "Snapdragon 690",
         "Qualcomm",
         "Adreno 619L",
         44
        ],
        [
         "2022-08-11",
         66,
         "Snapdragon 720G",
         "Qualcomm",
         "Adreno 618",
         44
        ],
        [
         "2022-08-11",
         75,
         "Snapdragon 480",
         "Qualcomm",
         "Adreno 619",
         40
        ],
        [
         "2022-08-11",
         76,
         "Snapdragon 680",
         "Qualcomm",
         "Adreno 610",
         39
        ],
        [
         "2022-08-11",
         83,
         "Tiger T618",
         "Unisoc",
         "ARM Mali-G52 MP2",
         34
        ],
        [
         "2022-08-11",
         111,
         "Snapdragon 660",
         "Qualcomm",
         "Adreno 512",
         29
        ],
        [
         "2022-08-11",
         116,
         "Snapdragon 636",
         "Qualcomm",
         "Adreno 509",
         26
        ],
        [
         "2022-08-11",
         117,
         "Snapdragon 632",
         "Qualcomm",
         "Adreno 506",
         26
        ],
        [
         "2022-08-11",
         118,
         "Helio G35",
         "MediaTek",
         "IMG PowerVR GE8320",
         25
        ]
       ],
       "datasetInfos": [],
       "dbfsResultPath": null,
       "isJsonSchema": true,
       "metadata": {},
       "overflow": false,
       "plotOptions": {
        "customPlotOptions": {},
        "displayType": "table",
        "pivotAggregation": null,
        "pivotColumns": null,
        "xColumns": null,
        "yColumns": null
       },
       "removedWidgets": [],
       "schema": [
        {
         "metadata": "{}",
         "name": "process_dt",
         "type": "\"date\""
        },
        {
         "metadata": "{}",
         "name": "ranking",
         "type": "\"integer\""
        },
        {
         "metadata": "{}",
         "name": "cpu",
         "type": "\"string\""
        },
        {
         "metadata": "{}",
         "name": "manufacturer",
         "type": "\"string\""
        },
        {
         "metadata": "{}",
         "name": "gpu",
         "type": "\"string\""
        },
        {
         "metadata": "{}",
         "name": "score",
         "type": "\"integer\""
        }
       ],
       "type": "table"
      }
     },
     "output_type": "display_data"
    }
   ],
   "source": [
    "%sql\n",
    "SELECT * FROM dv_analytics_work.cpu_ranking"
   ]
  },
  {
   "cell_type": "code",
   "execution_count": 0,
   "metadata": {
    "application/vnd.databricks.v1+cell": {
     "cellMetadata": {
      "implicitDf": true
     },
     "inputWidgets": {},
     "nuid": "cae97cfd-face-4a17-9f67-5e7da1012841",
     "showTitle": false,
     "title": ""
    }
   },
   "outputs": [
    {
     "output_type": "display_data",
     "data": {
      "text/html": [
       "<style scoped>\n",
       "  .table-result-container {\n",
       "    max-height: 300px;\n",
       "    overflow: auto;\n",
       "  }\n",
       "  table, th, td {\n",
       "    border: 1px solid black;\n",
       "    border-collapse: collapse;\n",
       "  }\n",
       "  th, td {\n",
       "    padding: 5px;\n",
       "  }\n",
       "  th {\n",
       "    text-align: left;\n",
       "  }\n",
       "</style><div class='table-result-container'><table class='table-result'><thead style='background-color: white'><tr><th>num_affected_rows</th></tr></thead><tbody><tr><td>0</td></tr></tbody></table></div>"
      ]
     },
     "metadata": {
      "application/vnd.databricks.v1+output": {
       "addedWidgets": {},
       "aggData": [],
       "aggError": "",
       "aggOverflow": false,
       "aggSchema": [],
       "aggSeriesLimitReached": false,
       "aggType": "",
       "arguments": {},
       "columnCustomDisplayInfos": {},
       "data": [
        [
         0
        ]
       ],
       "datasetInfos": [],
       "dbfsResultPath": null,
       "isJsonSchema": true,
       "metadata": {},
       "overflow": false,
       "plotOptions": {
        "customPlotOptions": {},
        "displayType": "table",
        "pivotAggregation": null,
        "pivotColumns": null,
        "xColumns": null,
        "yColumns": null
       },
       "removedWidgets": [],
       "schema": [
        {
         "metadata": "{}",
         "name": "num_affected_rows",
         "type": "\"long\""
        }
       ],
       "type": "table"
      }
     },
     "output_type": "display_data"
    }
   ],
   "source": [
    "%sql\n",
    "DELETE FROM dv_analytics_work.cpu_ranking\n",
    "WHERE process_dt = CASE WHEN '$dateToProcess' <> 'null' THEN '$dateToProcess' ELSE CURRENT_DATE END"
   ]
  },
  {
   "cell_type": "code",
   "execution_count": 0,
   "metadata": {
    "application/vnd.databricks.v1+cell": {
     "cellMetadata": {
      "implicitDf": true
     },
     "inputWidgets": {},
     "nuid": "f20044e2-28b4-4e84-8e00-1014a988e4a2",
     "showTitle": false,
     "title": ""
    }
   },
   "outputs": [
    {
     "output_type": "display_data",
     "data": {
      "text/html": [
       "<style scoped>\n",
       "  .table-result-container {\n",
       "    max-height: 300px;\n",
       "    overflow: auto;\n",
       "  }\n",
       "  table, th, td {\n",
       "    border: 1px solid black;\n",
       "    border-collapse: collapse;\n",
       "  }\n",
       "  th, td {\n",
       "    padding: 5px;\n",
       "  }\n",
       "  th {\n",
       "    text-align: left;\n",
       "  }\n",
       "</style><div class='table-result-container'><table class='table-result'><thead style='background-color: white'><tr><th>num_affected_rows</th><th>num_inserted_rows</th></tr></thead><tbody><tr><td>125</td><td>125</td></tr></tbody></table></div>"
      ]
     },
     "metadata": {
      "application/vnd.databricks.v1+output": {
       "addedWidgets": {},
       "aggData": [],
       "aggError": "",
       "aggOverflow": false,
       "aggSchema": [],
       "aggSeriesLimitReached": false,
       "aggType": "",
       "arguments": {},
       "columnCustomDisplayInfos": {},
       "data": [
        [
         125,
         125
        ]
       ],
       "datasetInfos": [],
       "dbfsResultPath": null,
       "isJsonSchema": true,
       "metadata": {},
       "overflow": false,
       "plotOptions": {
        "customPlotOptions": {},
        "displayType": "table",
        "pivotAggregation": null,
        "pivotColumns": null,
        "xColumns": null,
        "yColumns": null
       },
       "removedWidgets": [],
       "schema": [
        {
         "metadata": "{}",
         "name": "num_affected_rows",
         "type": "\"long\""
        },
        {
         "metadata": "{}",
         "name": "num_inserted_rows",
         "type": "\"long\""
        }
       ],
       "type": "table"
      }
     },
     "output_type": "display_data"
    }
   ],
   "source": [
    "%sql\n",
    "INSERT INTO dv_analytics_work.cpu_ranking\n",
    "SELECT * FROM cpu_ranking_clean"
   ]
  },
  {
   "cell_type": "code",
   "execution_count": 0,
   "metadata": {
    "application/vnd.databricks.v1+cell": {
     "cellMetadata": {
      "implicitDf": true
     },
     "inputWidgets": {},
     "nuid": "4f63a72b-a416-45dd-947e-84a996d461d3",
     "showTitle": false,
     "title": ""
    }
   },
   "outputs": [
    {
     "output_type": "display_data",
     "data": {
      "text/html": [
       "<style scoped>\n",
       "  .table-result-container {\n",
       "    max-height: 300px;\n",
       "    overflow: auto;\n",
       "  }\n",
       "  table, th, td {\n",
       "    border: 1px solid black;\n",
       "    border-collapse: collapse;\n",
       "  }\n",
       "  th, td {\n",
       "    padding: 5px;\n",
       "  }\n",
       "  th {\n",
       "    text-align: left;\n",
       "  }\n",
       "</style><div class='table-result-container'><table class='table-result'><thead style='background-color: white'><tr><th>process_dt</th><th>ranking</th><th>cpu</th><th>manufacturer</th><th>gpu</th><th>score</th></tr></thead><tbody><tr><td>2022-08-11</td><td>58</td><td>Kirin 810</td><td>HiSilicon</td><td>Mali-G52 MP6</td><td>47</td></tr><tr><td>2022-08-11</td><td>67</td><td>Helio G95</td><td>MediaTek</td><td>Mali-G76 3EEMC4</td><td>43</td></tr><tr><td>2022-08-11</td><td>72</td><td>Snapdragon 835</td><td>Qualcomm</td><td>Adreno 540</td><td>42</td></tr><tr><td>2022-08-11</td><td>78</td><td>Exynos 8895</td><td>Samsung</td><td>Mali-G71 MP20</td><td>39</td></tr><tr><td>2022-08-11</td><td>88</td><td>Helio G80</td><td>MediaTek</td><td>Mali-G52 MP2</td><td>33</td></tr><tr><td>2022-08-11</td><td>93</td><td>Tiger T616</td><td>Unisoc</td><td>Mali-G57 MP1</td><td>32</td></tr><tr><td>2022-08-11</td><td>96</td><td>Tiger T700</td><td>Unisoc</td><td>ARM Mali-G52 MC2</td><td>31</td></tr><tr><td>2022-08-11</td><td>98</td><td>Helio G70</td><td>MediaTek</td><td>Mali-G52 2EEMC2</td><td>31</td></tr><tr><td>2022-08-11</td><td>24</td><td>Dimensity 1100</td><td>MediaTek</td><td>Mali-G77 MC9</td><td>71</td></tr><tr><td>2022-08-11</td><td>63</td><td>Dimensity 700</td><td>MediaTek</td><td>Mali-G57 MC2</td><td>44</td></tr><tr><td>2022-08-11</td><td>81</td><td>Snapdragon 710</td><td>Qualcomm</td><td>Adreno 616</td><td>36</td></tr><tr><td>2022-08-11</td><td>84</td><td>Snapdragon 820</td><td>Qualcomm</td><td>Adreno 530</td><td>34</td></tr><tr><td>2022-08-11</td><td>101</td><td>Snapdragon 665</td><td>Qualcomm</td><td>Adreno 610</td><td>31</td></tr><tr><td>2022-08-11</td><td>122</td><td>Snapdragon 630</td><td>Qualcomm</td><td>Adreno 508</td><td>24</td></tr><tr><td>2022-08-11</td><td>13</td><td>Exynos 2100</td><td>Samsung</td><td>Mali-G78 MP14</td><td>83</td></tr><tr><td>2022-08-11</td><td>43</td><td>Exynos 1280</td><td>Samsung</td><td>Mali-G68</td><td>55</td></tr><tr><td>2022-08-11</td><td>82</td><td>Helio P90</td><td>MediaTek</td><td>PowerVR GM9446</td><td>35</td></tr><tr><td>2022-08-11</td><td>50</td><td>A11 Bionic</td><td>Apple</td><td>Apple GPU</td><td>51</td></tr><tr><td>2022-08-11</td><td>74</td><td>A10 Fusion</td><td>Apple</td><td>PowerVR GT7600</td><td>41</td></tr><tr><td>2022-08-11</td><td>44</td><td>Kirin 820</td><td>HiSilicon</td><td>Mali-G57 MP6</td><td>55</td></tr><tr><td>2022-08-11</td><td>57</td><td>Snapdragon 750G</td><td>Qualcomm</td><td>Adreno 619</td><td>47</td></tr><tr><td>2022-08-11</td><td>89</td><td>Helio P95</td><td>MediaTek</td><td>PowerVR GM9446</td><td>33</td></tr><tr><td>2022-08-11</td><td>64</td><td>Dimensity 720</td><td>MediaTek</td><td>Mali-G57 MC3</td><td>44</td></tr><tr><td>2022-08-11</td><td>51</td><td>Exynos 9810</td><td>Samsung</td><td>Mali-G72MP18</td><td>51</td></tr><tr><td>2022-08-11</td><td>69</td><td>Snapdragon 730G</td><td>Qualcomm</td><td>Adreno 618</td><td>43</td></tr><tr><td>2022-08-11</td><td>56</td><td>Snapdragon 765</td><td>Qualcomm</td><td>Adreno 620</td><td>48</td></tr><tr><td>2022-08-11</td><td>94</td><td>Exynos 9609</td><td>Samsung</td><td>Mali-G72 MP3</td><td>32</td></tr><tr><td>2022-08-11</td><td>1</td><td>A15 Bionic</td><td>Apple</td><td>Apple GPU</td><td>98</td></tr><tr><td>2022-08-11</td><td>4</td><td>Dimensity 9000</td><td>MediaTek</td><td>Mali-G710</td><td>96</td></tr><tr><td>2022-08-11</td><td>11</td><td>Google Tensor</td><td>Google</td><td>Mali-G78 MP20</td><td>85</td></tr><tr><td>2022-08-11</td><td>17</td><td>Exynos 1080</td><td>Samsung</td><td>Mali-G78 MP10</td><td>78</td></tr><tr><td>2022-08-11</td><td>68</td><td>Helio G90</td><td>MediaTek</td><td>Mali-G76 MC4</td><td>43</td></tr><tr><td>2022-08-11</td><td>104</td><td>Helio P70</td><td>MediaTek</td><td>Mali-G72 MP3</td><td>30</td></tr><tr><td>2022-08-11</td><td>27</td><td>A12 Bionic</td><td>Apple</td><td>Apple A12 Bionic GPU</td><td>69</td></tr><tr><td>2022-08-11</td><td>77</td><td>Kirin 970</td><td>HiSilicon</td><td>Mali G72 MP12</td><td>39</td></tr><tr><td>2022-08-11</td><td>36</td><td>Exynos 9820</td><td>Samsung</td><td>Mali G76 MP12</td><td>61</td></tr><tr><td>2022-08-11</td><td>106</td><td>Exynos 9610</td><td>Samsung</td><td>Mali-G72 MP3</td><td>30</td></tr><tr><td>2022-08-11</td><td>3</td><td>Snapdragon 8 Plus Gen 1</td><td>Qualcomm</td><td>Adreno 730</td><td>97</td></tr><tr><td>2022-08-11</td><td>80</td><td>Snapdragon 678</td><td>Qualcomm</td><td>Adreno 612</td><td>36</td></tr><tr><td>2022-08-11</td><td>39</td><td>Exynos 9825</td><td>Samsung</td><td>Mali G76 MP12</td><td>59</td></tr><tr><td>2022-08-11</td><td>61</td><td>Exynos 880</td><td>Samsung</td><td>Mali G76 MP5</td><td>45</td></tr><tr><td>2022-08-11</td><td>5</td><td>Snapdragon 8 Gen 1</td><td>Qualcomm</td><td>Adreno 730</td><td>94</td></tr><tr><td>2022-08-11</td><td>108</td><td>Kirin 710A</td><td>HiSilicon</td><td>Mali-G51</td><td>29</td></tr><tr><td>2022-08-11</td><td>6</td><td>A14 Bionic</td><td>Apple</td><td>Apple GPU</td><td>92</td></tr><tr><td>2022-08-11</td><td>14</td><td>A13 Bionic</td><td>Apple</td><td>Apple A13 Bionic GPU</td><td>82</td></tr><tr><td>2022-08-11</td><td>25</td><td>Exynos 990</td><td>Samsung</td><td>Mali-G77 MP11</td><td>71</td></tr><tr><td>2022-08-11</td><td>53</td><td>Exynos 980</td><td>Samsung</td><td>Mali G76 MP5</td><td>49</td></tr><tr><td>2022-08-11</td><td>70</td><td>Helio G96</td><td>MediaTek</td><td>Mali G57 MC2</td><td>42</td></tr><tr><td>2022-08-11</td><td>71</td><td>Helio G90T</td><td>MediaTek</td><td>Mali-G76 MC4</td><td>42</td></tr><tr><td>2022-08-11</td><td>62</td><td>Snapdragon 480 Plus</td><td>Qualcomm</td><td>Adreno 619</td><td>44</td></tr><tr><td>2022-08-11</td><td>7</td><td>Snapdragon 888 Plus</td><td>Qualcomm</td><td>Adreno 660</td><td>91</td></tr><tr><td>2022-08-11</td><td>124</td><td>Helio A25</td><td>MediaTek</td><td>PowerVR GE8320</td><td>23</td></tr><tr><td>2022-08-11</td><td>86</td><td>Helio G88</td><td>MediaTek</td><td>Mali-G52 MC2</td><td>33</td></tr><tr><td>2022-08-11</td><td>8</td><td>Exynos 2200</td><td>Samsung</td><td>Samsung Xclipse 920</td><td>90</td></tr><tr><td>2022-08-11</td><td>87</td><td>Helio G85</td><td>MediaTek</td><td>Mali-G52 MP2</td><td>33</td></tr><tr><td>2022-08-11</td><td>73</td><td>Snapdragon 730</td><td>Qualcomm</td><td>Adreno 618</td><td>42</td></tr><tr><td>2022-08-11</td><td>10</td><td>Dimensity 8100</td><td>MediaTek</td><td>Mali-G610 MC6</td><td>88</td></tr><tr><td>2022-08-11</td><td>90</td><td>Exynos 9611</td><td>Samsung</td><td>Mali-G72 MP3</td><td>33</td></tr><tr><td>2022-08-11</td><td>112</td><td>Unisoc T606</td><td>Unisoc</td><td>Mali-G57 MP1</td><td>28</td></tr><tr><td>2022-08-11</td><td>79</td><td>Snapdragon 712</td><td>Qualcomm</td><td>Adreno 616</td><td>38</td></tr><tr><td>2022-08-11</td><td>12</td><td>Kirin 9000</td><td>HiSilicon</td><td>Mali-G78 MP24</td><td>85</td></tr><tr><td>2022-08-11</td><td>114</td><td>Helio P60</td><td>MediaTek</td><td>Mali-G72 MP3</td><td>28</td></tr><tr><td>2022-08-11</td><td>91</td><td>Kirin 960</td><td>HiSilicon</td><td>Mali-G71 MP8</td><td>33</td></tr><tr><td>2022-08-11</td><td>15</td><td>Snapdragon 870</td><td>Qualcomm</td><td>Adreno 650</td><td>78</td></tr><tr><td>2022-08-11</td><td>92</td><td>Snapdragon 670</td><td>Qualcomm</td><td>Adreno 615</td><td>33</td></tr><tr><td>2022-08-11</td><td>85</td><td>Snapdragon 675</td><td>Qualcomm</td><td>Adreno 612</td><td>34</td></tr><tr><td>2022-08-11</td><td>110</td><td>Snapdragon 460</td><td>Qualcomm</td><td>Adreno 610</td><td>29</td></tr><tr><td>2022-08-11</td><td>95</td><td>Exynos 8890</td><td>Samsung</td><td>Mali-T880 MP12</td><td>32</td></tr><tr><td>2022-08-11</td><td>16</td><td>Kirin 9000E</td><td>HiSilicon</td><td>Mali-G78 MP22</td><td>78</td></tr><tr><td>2022-08-11</td><td>99</td><td>Apple A9</td><td>Apple</td><td>PowerVR GT7600</td><td>31</td></tr><tr><td>2022-08-11</td><td>18</td><td>Snapdragon 865 Plus</td><td>Qualcomm</td><td>Adreno 650</td><td>78</td></tr><tr><td>2022-08-11</td><td>97</td><td>Snapdragon 662</td><td>Qualcomm</td><td>Adreno 610</td><td>31</td></tr><tr><td>2022-08-11</td><td>103</td><td>Helio P65</td><td>MediaTek</td><td>Mali-G52 MC2</td><td>30</td></tr><tr><td>2022-08-11</td><td>21</td><td>Dimensity 8000</td><td>MediaTek</td><td>Mali-G610 MC6</td><td>76</td></tr><tr><td>2022-08-11</td><td>100</td><td>Snapdragon 821</td><td>Qualcomm</td><td>Adreno 530</td><td>31</td></tr><tr><td>2022-08-11</td><td>105</td><td>Kirin 710</td><td>HiSilicon</td><td>Mali-G51 MP4</td><td>30</td></tr><tr><td>2022-08-11</td><td>22</td><td>Snapdragon 865</td><td>Qualcomm</td><td>Adreno 650</td><td>74</td></tr><tr><td>2022-08-11</td><td>102</td><td>Kirin 710F</td><td>HiSilicon</td><td>Mali-G51 MP4</td><td>30</td></tr><tr><td>2022-08-11</td><td>23</td><td>Snapdragon 7 Gen 1</td><td>Qualcomm</td><td>Adreno 662</td><td>72</td></tr><tr><td>2022-08-11</td><td>107</td><td>Tiger T612</td><td>Unisoc</td><td>Mali-G57 MP1</td><td>29</td></tr><tr><td>2022-08-11</td><td>29</td><td>Snapdragon 855 Plus</td><td>Qualcomm</td><td>Adreno 640</td><td>66</td></tr><tr><td>2022-08-11</td><td>120</td><td>Helio P35</td><td>MediaTek</td><td>IMG PowerVR GE8320</td><td>25</td></tr><tr><td>2022-08-11</td><td>109</td><td>Exynos 850</td><td>Samsung</td><td>Mali-G52 MP1</td><td>29</td></tr><tr><td>2022-08-11</td><td>30</td><td>Kirin 990 (5G)</td><td>HiSilicon</td><td>Mali G76 MP16</td><td>65</td></tr><tr><td>2022-08-11</td><td>113</td><td>Tiger T610</td><td>Unisoc</td><td>ARM Mali G52 MP2</td><td>28</td></tr><tr><td>2022-08-11</td><td>33</td><td>Snapdragon 855</td><td>Qualcomm</td><td>Adreno 640</td><td>64</td></tr><tr><td>2022-08-11</td><td>115</td><td>Helio G37</td><td>MediaTek</td><td>PowerVR GE8320</td><td>27</td></tr><tr><td>2022-08-11</td><td>35</td><td>Kirin 990 (4G)</td><td>HiSilicon</td><td>Mali G76 MP16</td><td>62</td></tr><tr><td>2022-08-11</td><td>119</td><td>Exynos 7904</td><td>Samsung</td><td>Mali-G71 MP2</td><td>25</td></tr><tr><td>2022-08-11</td><td>40</td><td>Dimensity 1000L</td><td>MediaTek</td><td>Mali-G77 MC9</td><td>57</td></tr><tr><td>2022-08-11</td><td>41</td><td>Kirin 985</td><td>HiSilicon</td><td>Mali-G77 MP8</td><td>56</td></tr><tr><td>2022-08-11</td><td>121</td><td>Exynos 7885</td><td>Samsung</td><td>Mali-G71 MP2</td><td>24</td></tr><tr><td>2022-08-11</td><td>123</td><td>Kirin 950</td><td>HiSilicon</td><td>Mali-T880 MP4</td><td>24</td></tr><tr><td>2022-08-11</td><td>46</td><td>Snapdragon 768G</td><td>Qualcomm</td><td>Adreno 620</td><td>54</td></tr><tr><td>2022-08-11</td><td>47</td><td>Dimensity 900</td><td>MediaTek</td><td>Mali-G68 MC4</td><td>53</td></tr><tr><td>2022-08-11</td><td>2</td><td>Dimensity 9000 Plus</td><td>MediaTek</td><td>Mali-G710 MC10</td><td>97</td></tr><tr><td>2022-08-11</td><td>52</td><td>Dimensity 800U</td><td>MediaTek</td><td>Mali-G57 MC3</td><td>49</td></tr><tr><td>2022-08-11</td><td>9</td><td>Snapdragon 888</td><td>Qualcomm</td><td>Adreno 660</td><td>90</td></tr><tr><td>2022-08-11</td><td>55</td><td>Dimensity 810</td><td>MediaTek</td><td>Mali-G57 MC2</td><td>48</td></tr><tr><td>2022-08-11</td><td>19</td><td>Dimensity 1300</td><td>MediaTek</td><td>Mali-G77 MC9</td><td>77</td></tr><tr><td>2022-08-11</td><td>125</td><td>Helio G25</td><td>MediaTek</td><td>IMG PowerVR GE8320</td><td>23</td></tr><tr><td>2022-08-11</td><td>20</td><td>Dimensity 1200</td><td>MediaTek</td><td>Mali-G77 MC9</td><td>77</td></tr><tr><td>2022-08-11</td><td>26</td><td>Dimensity 1000 Plus</td><td>MediaTek</td><td>Mali-G77 MC9</td><td>69</td></tr><tr><td>2022-08-11</td><td>28</td><td>Snapdragon 860</td><td>Qualcomm</td><td>Adreno 640</td><td>67</td></tr><tr><td>2022-08-11</td><td>31</td><td>Snapdragon 778G Plus</td><td>Qualcomm</td><td>Adreno 642L</td><td>64</td></tr><tr><td>2022-08-11</td><td>32</td><td>Snapdragon 780G</td><td>Qualcomm</td><td>Adreno 642</td><td>64</td></tr><tr><td>2022-08-11</td><td>34</td><td>Snapdragon 778G</td><td>Qualcomm</td><td>Adreno 642L</td><td>62</td></tr><tr><td>2022-08-11</td><td>37</td><td>Dimensity 920</td><td>MediaTek</td><td>Mali-G68 MC4</td><td>60</td></tr><tr><td>2022-08-11</td><td>38</td><td>Dimensity 1000</td><td>MediaTek</td><td>Mali-G77 MP9</td><td>60</td></tr><tr><td>2022-08-11</td><td>42</td><td>Kirin 980</td><td>HiSilicon</td><td>Mali G76 MP10</td><td>56</td></tr><tr><td>2022-08-11</td><td>45</td><td>Dimensity 820</td><td>MediaTek</td><td>Mali-G57 MC5</td><td>54</td></tr><tr><td>2022-08-11</td><td>48</td><td>Snapdragon 845</td><td>Qualcomm</td><td>Adreno 630</td><td>52</td></tr><tr><td>2022-08-11</td><td>49</td><td>Snapdragon 695</td><td>Qualcomm</td><td>Adreno 619</td><td>51</td></tr><tr><td>2022-08-11</td><td>54</td><td>Snapdragon 765G</td><td>Qualcomm</td><td>Adreno 620</td><td>49</td></tr><tr><td>2022-08-11</td><td>59</td><td>Dimensity 800</td><td>MediaTek</td><td>Mali-G57 MC4</td><td>46</td></tr><tr><td>2022-08-11</td><td>60</td><td>Snapdragon 732G</td><td>Qualcomm</td><td>Adreno 618</td><td>45</td></tr><tr><td>2022-08-11</td><td>65</td><td>Snapdragon 690</td><td>Qualcomm</td><td>Adreno 619L</td><td>44</td></tr><tr><td>2022-08-11</td><td>66</td><td>Snapdragon 720G</td><td>Qualcomm</td><td>Adreno 618</td><td>44</td></tr><tr><td>2022-08-11</td><td>75</td><td>Snapdragon 480</td><td>Qualcomm</td><td>Adreno 619</td><td>40</td></tr><tr><td>2022-08-11</td><td>76</td><td>Snapdragon 680</td><td>Qualcomm</td><td>Adreno 610</td><td>39</td></tr><tr><td>2022-08-11</td><td>83</td><td>Tiger T618</td><td>Unisoc</td><td>ARM Mali-G52 MP2</td><td>34</td></tr><tr><td>2022-08-11</td><td>111</td><td>Snapdragon 660</td><td>Qualcomm</td><td>Adreno 512</td><td>29</td></tr><tr><td>2022-08-11</td><td>116</td><td>Snapdragon 636</td><td>Qualcomm</td><td>Adreno 509</td><td>26</td></tr><tr><td>2022-08-11</td><td>117</td><td>Snapdragon 632</td><td>Qualcomm</td><td>Adreno 506</td><td>26</td></tr><tr><td>2022-08-11</td><td>118</td><td>Helio G35</td><td>MediaTek</td><td>IMG PowerVR GE8320</td><td>25</td></tr><tr><td>2022-09-13</td><td>79</td><td>Snapdragon 680</td><td>Qualcomm</td><td>Adreno 610</td><td>38</td></tr><tr><td>2022-09-13</td><td>80</td><td>Snapdragon 712</td><td>Qualcomm</td><td>Adreno 616</td><td>38</td></tr><tr><td>2022-09-13</td><td>81</td><td>Snapdragon 678</td><td>Qualcomm</td><td>Adreno 612</td><td>36</td></tr><tr><td>2022-09-13</td><td>82</td><td>Snapdragon 710</td><td>Qualcomm</td><td>Adreno 616</td><td>36</td></tr><tr><td>2022-09-13</td><td>83</td><td>Tiger T618</td><td>Unisoc</td><td>ARM Mali-G52 MP2</td><td>34</td></tr><tr><td>2022-09-13</td><td>84</td><td>Snapdragon 820</td><td>Qualcomm</td><td>Adreno 530</td><td>34</td></tr><tr><td>2022-09-13</td><td>85</td><td>Snapdragon 675</td><td>Qualcomm</td><td>Adreno 612</td><td>34</td></tr><tr><td>2022-09-13</td><td>86</td><td>Helio P90</td><td>MediaTek</td><td>PowerVR GM9446</td><td>34</td></tr><tr><td>2022-09-13</td><td>87</td><td>Helio G88</td><td>MediaTek</td><td>Mali-G52 MC2</td><td>33</td></tr><tr><td>2022-09-13</td><td>88</td><td>Helio G85</td><td>MediaTek</td><td>Mali-G52 MP2</td><td>33</td></tr><tr><td>2022-09-13</td><td>89</td><td>Helio G80</td><td>MediaTek</td><td>Mali-G52 MP2</td><td>33</td></tr><tr><td>2022-09-13</td><td>1</td><td>A16 Bionic</td><td>Apple</td><td>Apple GPU</td><td>100</td></tr><tr><td>2022-09-13</td><td>2</td><td>A15 Bionic</td><td>Apple</td><td>Apple GPU</td><td>98</td></tr><tr><td>2022-09-13</td><td>3</td><td>Dimensity 9000 Plus</td><td>MediaTek</td><td>Mali-G710 MC10</td><td>97</td></tr><tr><td>2022-09-13</td><td>20</td><td>Dimensity 1200</td><td>MediaTek</td><td>Mali-G77 MC9</td><td>77</td></tr><tr><td>2022-09-13</td><td>21</td><td>Dimensity 1300</td><td>MediaTek</td><td>Mali-G77 MC9</td><td>76</td></tr><tr><td>2022-09-13</td><td>22</td><td>Dimensity 8000</td><td>MediaTek</td><td>Mali-G610 MC6</td><td>76</td></tr><tr><td>2022-09-13</td><td>23</td><td>Snapdragon 865</td><td>Qualcomm</td><td>Adreno 650</td><td>74</td></tr><tr><td>2022-09-13</td><td>47</td><td>Dimensity 900</td><td>MediaTek</td><td>Mali-G68 MC4</td><td>53</td></tr><tr><td>2022-09-13</td><td>48</td><td>Snapdragon 768G</td><td>Qualcomm</td><td>Adreno 620</td><td>53</td></tr><tr><td>2022-09-13</td><td>49</td><td>Snapdragon 845</td><td>Qualcomm</td><td>Adreno 630</td><td>52</td></tr><tr><td>2022-09-13</td><td>50</td><td>Snapdragon 695</td><td>Qualcomm</td><td>Adreno 619</td><td>51</td></tr><tr><td>2022-09-13</td><td>55</td><td>Dimensity 810</td><td>MediaTek</td><td>Mali-G57 MC2</td><td>48</td></tr><tr><td>2022-09-13</td><td>56</td><td>Dimensity 800U</td><td>MediaTek</td><td>Mali-G57 MC3</td><td>48</td></tr><tr><td>2022-09-13</td><td>57</td><td>Snapdragon 765</td><td>Qualcomm</td><td>Adreno 620</td><td>48</td></tr><tr><td>2022-09-13</td><td>58</td><td>Snapdragon 750G</td><td>Qualcomm</td><td>Adreno 619</td><td>47</td></tr><tr><td>2022-09-13</td><td>32</td><td>Snapdragon 778G Plus</td><td>Qualcomm</td><td>Adreno 642L</td><td>64</td></tr><tr><td>2022-09-13</td><td>33</td><td>Snapdragon 780G</td><td>Qualcomm</td><td>Adreno 642</td><td>64</td></tr><tr><td>2022-09-13</td><td>34</td><td>Snapdragon 855</td><td>Qualcomm</td><td>Adreno 640</td><td>63</td></tr><tr><td>2022-09-13</td><td>35</td><td>Snapdragon 778G</td><td>Qualcomm</td><td>Adreno 642L</td><td>62</td></tr><tr><td>2022-09-13</td><td>40</td><td>Exynos 9825</td><td>Samsung</td><td>Mali G76 MP12</td><td>59</td></tr><tr><td>2022-09-13</td><td>41</td><td>Dimensity 1000L</td><td>MediaTek</td><td>Mali-G77 MC9</td><td>57</td></tr><tr><td>2022-09-13</td><td>42</td><td>Kirin 985</td><td>HiSilicon</td><td>Mali-G77 MP8</td><td>56</td></tr><tr><td>2022-09-13</td><td>63</td><td>Snapdragon 480 Plus</td><td>Qualcomm</td><td>Adreno 619</td><td>44</td></tr><tr><td>2022-09-13</td><td>64</td><td>Dimensity 700</td><td>MediaTek</td><td>Mali-G57 MC2</td><td>44</td></tr><tr><td>2022-09-13</td><td>65</td><td>Dimensity 720</td><td>MediaTek</td><td>Mali-G57 MC3</td><td>44</td></tr><tr><td>2022-09-13</td><td>66</td><td>Snapdragon 690</td><td>Qualcomm</td><td>Adreno 619L</td><td>44</td></tr><tr><td>2022-09-13</td><td>67</td><td>Snapdragon 720G</td><td>Qualcomm</td><td>Adreno 618</td><td>44</td></tr><tr><td>2022-09-13</td><td>68</td><td>Helio G95</td><td>MediaTek</td><td>Mali-G76 3EEMC4</td><td>43</td></tr><tr><td>2022-09-13</td><td>69</td><td>Helio G90</td><td>MediaTek</td><td>Mali-G76 MC4</td><td>43</td></tr><tr><td>2022-09-13</td><td>70</td><td>Snapdragon 730G</td><td>Qualcomm</td><td>Adreno 618</td><td>43</td></tr><tr><td>2022-09-13</td><td>71</td><td>Helio G96</td><td>MediaTek</td><td>Mali G57 MC2</td><td>42</td></tr><tr><td>2022-09-13</td><td>72</td><td>Snapdragon 835</td><td>Qualcomm</td><td>Adreno 540</td><td>42</td></tr><tr><td>2022-09-13</td><td>73</td><td>Snapdragon 730</td><td>Qualcomm</td><td>Adreno 618</td><td>42</td></tr><tr><td>2022-09-13</td><td>74</td><td>Helio G90T</td><td>MediaTek</td><td>Mali-G76 MC4</td><td>41</td></tr><tr><td>2022-09-13</td><td>98</td><td>Snapdragon 662</td><td>Qualcomm</td><td>Adreno 610</td><td>31</td></tr><tr><td>2022-09-13</td><td>99</td><td>Helio G70</td><td>MediaTek</td><td>Mali-G52 2EEMC2</td><td>31</td></tr><tr><td>2022-09-13</td><td>100</td><td>Apple A9</td><td>Apple</td><td>PowerVR GT7600</td><td>31</td></tr><tr><td>2022-09-13</td><td>101</td><td>Snapdragon 821</td><td>Qualcomm</td><td>Adreno 530</td><td>31</td></tr><tr><td>2022-09-13</td><td>4</td><td>Snapdragon 8 Plus Gen 1</td><td>Qualcomm</td><td>Adreno 730</td><td>97</td></tr><tr><td>2022-09-13</td><td>5</td><td>Dimensity 9000</td><td>MediaTek</td><td>Mali-G710</td><td>96</td></tr><tr><td>2022-09-13</td><td>6</td><td>Snapdragon 8 Gen 1</td><td>Qualcomm</td><td>Adreno 730</td><td>94</td></tr><tr><td>2022-09-13</td><td>7</td><td>A14 Bionic</td><td>Apple</td><td>Apple GPU</td><td>92</td></tr><tr><td>2022-09-13</td><td>8</td><td>Snapdragon 888 Plus</td><td>Qualcomm</td><td>Adreno 660</td><td>91</td></tr><tr><td>2022-09-13</td><td>9</td><td>Exynos 2200</td><td>Samsung</td><td>Samsung Xclipse 920</td><td>90</td></tr><tr><td>2022-09-13</td><td>10</td><td>Snapdragon 888</td><td>Qualcomm</td><td>Adreno 660</td><td>90</td></tr><tr><td>2022-09-13</td><td>11</td><td>Dimensity 8100</td><td>MediaTek</td><td>Mali-G610 MC6</td><td>87</td></tr><tr><td>2022-09-13</td><td>12</td><td>Google Tensor</td><td>Google</td><td>Mali-G78 MP20</td><td>85</td></tr><tr><td>2022-09-13</td><td>13</td><td>Kirin 9000</td><td>HiSilicon</td><td>Mali-G78 MP24</td><td>85</td></tr><tr><td>2022-09-13</td><td>14</td><td>Exynos 2100</td><td>Samsung</td><td>Mali-G78 MP14</td><td>82</td></tr><tr><td>2022-09-13</td><td>15</td><td>A13 Bionic</td><td>Apple</td><td>Apple A13 Bionic GPU</td><td>81</td></tr><tr><td>2022-09-13</td><td>16</td><td>Snapdragon 870</td><td>Qualcomm</td><td>Adreno 650</td><td>78</td></tr><tr><td>2022-09-13</td><td>17</td><td>Kirin 9000E</td><td>HiSilicon</td><td>Mali-G78 MP22</td><td>78</td></tr><tr><td>2022-09-13</td><td>18</td><td>Exynos 1080</td><td>Samsung</td><td>Mali-G78 MP10</td><td>78</td></tr><tr><td>2022-09-13</td><td>19</td><td>Snapdragon 865 Plus</td><td>Qualcomm</td><td>Adreno 650</td><td>78</td></tr><tr><td>2022-09-13</td><td>36</td><td>Kirin 990 (4G)</td><td>HiSilicon</td><td>Mali G76 MP16</td><td>61</td></tr><tr><td>2022-09-13</td><td>37</td><td>Exynos 9820</td><td>Samsung</td><td>Mali G76 MP12</td><td>61</td></tr><tr><td>2022-09-13</td><td>38</td><td>Dimensity 920</td><td>MediaTek</td><td>Mali-G68 MC4</td><td>59</td></tr><tr><td>2022-09-13</td><td>39</td><td>Dimensity 1000</td><td>MediaTek</td><td>Mali-G77 MP9</td><td>59</td></tr><tr><td>2022-09-13</td><td>43</td><td>Kirin 980</td><td>HiSilicon</td><td>Mali G76 MP10</td><td>56</td></tr><tr><td>2022-09-13</td><td>44</td><td>Exynos 1280</td><td>Samsung</td><td>Mali-G68</td><td>55</td></tr><tr><td>2022-09-13</td><td>45</td><td>Kirin 820</td><td>HiSilicon</td><td>Mali-G57 MP6</td><td>55</td></tr><tr><td>2022-09-13</td><td>46</td><td>Dimensity 820</td><td>MediaTek</td><td>Mali-G57 MC5</td><td>54</td></tr><tr><td>2022-09-13</td><td>51</td><td>A11 Bionic</td><td>Apple</td><td>Apple GPU</td><td>51</td></tr><tr><td>2022-09-13</td><td>52</td><td>Exynos 9810</td><td>Samsung</td><td>Mali-G72MP18</td><td>50</td></tr><tr><td>2022-09-13</td><td>53</td><td>Exynos 980</td><td>Samsung</td><td>Mali G76 MP5</td><td>49</td></tr><tr><td>2022-09-13</td><td>54</td><td>Snapdragon 765G</td><td>Qualcomm</td><td>Adreno 620</td><td>49</td></tr><tr><td>2022-09-13</td><td>59</td><td>Kirin 810</td><td>HiSilicon</td><td>Mali-G52 MP6</td><td>47</td></tr><tr><td>2022-09-13</td><td>60</td><td>Dimensity 800</td><td>MediaTek</td><td>Mali-G57 MC4</td><td>46</td></tr><tr><td>2022-09-13</td><td>61</td><td>Snapdragon 732G</td><td>Qualcomm</td><td>Adreno 618</td><td>45</td></tr><tr><td>2022-09-13</td><td>62</td><td>Exynos 880</td><td>Samsung</td><td>Mali G76 MP5</td><td>45</td></tr><tr><td>2022-09-13</td><td>90</td><td>Helio P95</td><td>MediaTek</td><td>PowerVR GM9446</td><td>33</td></tr><tr><td>2022-09-13</td><td>91</td><td>Exynos 9611</td><td>Samsung</td><td>Mali-G72 MP3</td><td>33</td></tr><tr><td>2022-09-13</td><td>92</td><td>Kirin 960</td><td>HiSilicon</td><td>Mali-G71 MP8</td><td>33</td></tr><tr><td>2022-09-13</td><td>93</td><td>Exynos 9609</td><td>Samsung</td><td>Mali-G72 MP3</td><td>32</td></tr><tr><td>2022-09-13</td><td>94</td><td>Snapdragon 670</td><td>Qualcomm</td><td>Adreno 615</td><td>32</td></tr><tr><td>2022-09-13</td><td>95</td><td>Exynos 8890</td><td>Samsung</td><td>Mali-T880 MP12</td><td>32</td></tr><tr><td>2022-09-13</td><td>96</td><td>Tiger T616</td><td>Unisoc</td><td>Mali-G57 MP1</td><td>31</td></tr><tr><td>2022-09-13</td><td>97</td><td>Tiger T700</td><td>Unisoc</td><td>ARM Mali-G52 MC2</td><td>31</td></tr><tr><td>2022-09-13</td><td>102</td><td>Snapdragon 665</td><td>Qualcomm</td><td>Adreno 610</td><td>31</td></tr><tr><td>2022-09-13</td><td>103</td><td>Kirin 710F</td><td>HiSilicon</td><td>Mali-G51 MP4</td><td>30</td></tr><tr><td>2022-09-13</td><td>104</td><td>Helio P65</td><td>MediaTek</td><td>Mali-G52 MC2</td><td>30</td></tr><tr><td>2022-09-13</td><td>105</td><td>Helio P70</td><td>MediaTek</td><td>Mali-G72 MP3</td><td>30</td></tr><tr><td>2022-09-13</td><td>106</td><td>Exynos 9610</td><td>Samsung</td><td>Mali-G72 MP3</td><td>30</td></tr><tr><td>2022-09-13</td><td>107</td><td>Tiger T612</td><td>Unisoc</td><td>Mali-G57 MP1</td><td>29</td></tr><tr><td>2022-09-13</td><td>108</td><td>Kirin 710A</td><td>HiSilicon</td><td>Mali-G51</td><td>29</td></tr><tr><td>2022-09-13</td><td>109</td><td>Exynos 850</td><td>Samsung</td><td>Mali-G52 MP1</td><td>29</td></tr><tr><td>2022-09-13</td><td>110</td><td>Snapdragon 460</td><td>Qualcomm</td><td>Adreno 610</td><td>29</td></tr><tr><td>2022-09-13</td><td>111</td><td>Kirin 710</td><td>HiSilicon</td><td>Mali-G51 MP4</td><td>29</td></tr><tr><td>2022-09-13</td><td>112</td><td>Snapdragon 660</td><td>Qualcomm</td><td>Adreno 512</td><td>29</td></tr><tr><td>2022-09-13</td><td>113</td><td>Unisoc T606</td><td>Unisoc</td><td>Mali-G57 MP1</td><td>28</td></tr><tr><td>2022-09-13</td><td>114</td><td>Tiger T610</td><td>Unisoc</td><td>ARM Mali G52 MP2</td><td>28</td></tr><tr><td>2022-09-13</td><td>115</td><td>Helio P60</td><td>MediaTek</td><td>Mali-G72 MP3</td><td>28</td></tr><tr><td>2022-09-13</td><td>116</td><td>Helio G37</td><td>MediaTek</td><td>PowerVR GE8320</td><td>26</td></tr><tr><td>2022-09-13</td><td>117</td><td>Snapdragon 636</td><td>Qualcomm</td><td>Adreno 509</td><td>26</td></tr><tr><td>2022-09-13</td><td>118</td><td>Snapdragon 632</td><td>Qualcomm</td><td>Adreno 506</td><td>26</td></tr><tr><td>2022-09-13</td><td>119</td><td>Helio G35</td><td>MediaTek</td><td>IMG PowerVR GE8320</td><td>25</td></tr><tr><td>2022-09-13</td><td>120</td><td>Exynos 7904</td><td>Samsung</td><td>Mali-G71 MP2</td><td>25</td></tr><tr><td>2022-09-13</td><td>121</td><td>Helio P35</td><td>MediaTek</td><td>IMG PowerVR GE8320</td><td>25</td></tr><tr><td>2022-09-13</td><td>24</td><td>Snapdragon 7 Gen 1</td><td>Qualcomm</td><td>Adreno 662</td><td>71</td></tr><tr><td>2022-09-13</td><td>25</td><td>Dimensity 1100</td><td>MediaTek</td><td>Mali-G77 MC9</td><td>71</td></tr><tr><td>2022-09-13</td><td>26</td><td>Exynos 990</td><td>Samsung</td><td>Mali-G77 MP11</td><td>71</td></tr><tr><td>2022-09-13</td><td>27</td><td>Dimensity 1000 Plus</td><td>MediaTek</td><td>Mali-G77 MC9</td><td>69</td></tr><tr><td>2022-09-13</td><td>28</td><td>A12 Bionic</td><td>Apple</td><td>Apple A12 Bionic GPU</td><td>69</td></tr><tr><td>2022-09-13</td><td>29</td><td>Snapdragon 860</td><td>Qualcomm</td><td>Adreno 640</td><td>67</td></tr><tr><td>2022-09-13</td><td>30</td><td>Snapdragon 855 Plus</td><td>Qualcomm</td><td>Adreno 640</td><td>66</td></tr><tr><td>2022-09-13</td><td>31</td><td>Kirin 990 (5G)</td><td>HiSilicon</td><td>Mali G76 MP16</td><td>65</td></tr><tr><td>2022-09-13</td><td>75</td><td>Snapdragon 480</td><td>Qualcomm</td><td>Adreno 619</td><td>40</td></tr><tr><td>2022-09-13</td><td>76</td><td>A10 Fusion</td><td>Apple</td><td>PowerVR GT7600</td><td>40</td></tr><tr><td>2022-09-13</td><td>77</td><td>Kirin 970</td><td>HiSilicon</td><td>Mali G72 MP12</td><td>39</td></tr><tr><td>2022-09-13</td><td>78</td><td>Exynos 8895</td><td>Samsung</td><td>Mali-G71 MP20</td><td>39</td></tr><tr><td>2022-09-13</td><td>122</td><td>Exynos 7885</td><td>Samsung</td><td>Mali-G71 MP2</td><td>24</td></tr><tr><td>2022-09-13</td><td>123</td><td>Snapdragon 630</td><td>Qualcomm</td><td>Adreno 508</td><td>24</td></tr><tr><td>2022-09-13</td><td>124</td><td>Kirin 950</td><td>HiSilicon</td><td>Mali-T880 MP4</td><td>24</td></tr><tr><td>2022-09-13</td><td>125</td><td>Helio A25</td><td>MediaTek</td><td>PowerVR GE8320</td><td>23</td></tr></tbody></table></div>"
      ]
     },
     "metadata": {
      "application/vnd.databricks.v1+output": {
       "addedWidgets": {},
       "aggData": [],
       "aggError": "",
       "aggOverflow": false,
       "aggSchema": [],
       "aggSeriesLimitReached": false,
       "aggType": "",
       "arguments": {},
       "columnCustomDisplayInfos": {},
       "data": [
        [
         "2022-08-11",
         58,
         "Kirin 810",
         "HiSilicon",
         "Mali-G52 MP6",
         47
        ],
        [
         "2022-08-11",
         67,
         "Helio G95",
         "MediaTek",
         "Mali-G76 3EEMC4",
         43
        ],
        [
         "2022-08-11",
         72,
         "Snapdragon 835",
         "Qualcomm",
         "Adreno 540",
         42
        ],
        [
         "2022-08-11",
         78,
         "Exynos 8895",
         "Samsung",
         "Mali-G71 MP20",
         39
        ],
        [
         "2022-08-11",
         88,
         "Helio G80",
         "MediaTek",
         "Mali-G52 MP2",
         33
        ],
        [
         "2022-08-11",
         93,
         "Tiger T616",
         "Unisoc",
         "Mali-G57 MP1",
         32
        ],
        [
         "2022-08-11",
         96,
         "Tiger T700",
         "Unisoc",
         "ARM Mali-G52 MC2",
         31
        ],
        [
         "2022-08-11",
         98,
         "Helio G70",
         "MediaTek",
         "Mali-G52 2EEMC2",
         31
        ],
        [
         "2022-08-11",
         24,
         "Dimensity 1100",
         "MediaTek",
         "Mali-G77 MC9",
         71
        ],
        [
         "2022-08-11",
         63,
         "Dimensity 700",
         "MediaTek",
         "Mali-G57 MC2",
         44
        ],
        [
         "2022-08-11",
         81,
         "Snapdragon 710",
         "Qualcomm",
         "Adreno 616",
         36
        ],
        [
         "2022-08-11",
         84,
         "Snapdragon 820",
         "Qualcomm",
         "Adreno 530",
         34
        ],
        [
         "2022-08-11",
         101,
         "Snapdragon 665",
         "Qualcomm",
         "Adreno 610",
         31
        ],
        [
         "2022-08-11",
         122,
         "Snapdragon 630",
         "Qualcomm",
         "Adreno 508",
         24
        ],
        [
         "2022-08-11",
         13,
         "Exynos 2100",
         "Samsung",
         "Mali-G78 MP14",
         83
        ],
        [
         "2022-08-11",
         43,
         "Exynos 1280",
         "Samsung",
         "Mali-G68",
         55
        ],
        [
         "2022-08-11",
         82,
         "Helio P90",
         "MediaTek",
         "PowerVR GM9446",
         35
        ],
        [
         "2022-08-11",
         50,
         "A11 Bionic",
         "Apple",
         "Apple GPU",
         51
        ],
        [
         "2022-08-11",
         74,
         "A10 Fusion",
         "Apple",
         "PowerVR GT7600",
         41
        ],
        [
         "2022-08-11",
         44,
         "Kirin 820",
         "HiSilicon",
         "Mali-G57 MP6",
         55
        ],
        [
         "2022-08-11",
         57,
         "Snapdragon 750G",
         "Qualcomm",
         "Adreno 619",
         47
        ],
        [
         "2022-08-11",
         89,
         "Helio P95",
         "MediaTek",
         "PowerVR GM9446",
         33
        ],
        [
         "2022-08-11",
         64,
         "Dimensity 720",
         "MediaTek",
         "Mali-G57 MC3",
         44
        ],
        [
         "2022-08-11",
         51,
         "Exynos 9810",
         "Samsung",
         "Mali-G72MP18",
         51
        ],
        [
         "2022-08-11",
         69,
         "Snapdragon 730G",
         "Qualcomm",
         "Adreno 618",
         43
        ],
        [
         "2022-08-11",
         56,
         "Snapdragon 765",
         "Qualcomm",
         "Adreno 620",
         48
        ],
        [
         "2022-08-11",
         94,
         "Exynos 9609",
         "Samsung",
         "Mali-G72 MP3",
         32
        ],
        [
         "2022-08-11",
         1,
         "A15 Bionic",
         "Apple",
         "Apple GPU",
         98
        ],
        [
         "2022-08-11",
         4,
         "Dimensity 9000",
         "MediaTek",
         "Mali-G710",
         96
        ],
        [
         "2022-08-11",
         11,
         "Google Tensor",
         "Google",
         "Mali-G78 MP20",
         85
        ],
        [
         "2022-08-11",
         17,
         "Exynos 1080",
         "Samsung",
         "Mali-G78 MP10",
         78
        ],
        [
         "2022-08-11",
         68,
         "Helio G90",
         "MediaTek",
         "Mali-G76 MC4",
         43
        ],
        [
         "2022-08-11",
         104,
         "Helio P70",
         "MediaTek",
         "Mali-G72 MP3",
         30
        ],
        [
         "2022-08-11",
         27,
         "A12 Bionic",
         "Apple",
         "Apple A12 Bionic GPU",
         69
        ],
        [
         "2022-08-11",
         77,
         "Kirin 970",
         "HiSilicon",
         "Mali G72 MP12",
         39
        ],
        [
         "2022-08-11",
         36,
         "Exynos 9820",
         "Samsung",
         "Mali G76 MP12",
         61
        ],
        [
         "2022-08-11",
         106,
         "Exynos 9610",
         "Samsung",
         "Mali-G72 MP3",
         30
        ],
        [
         "2022-08-11",
         3,
         "Snapdragon 8 Plus Gen 1",
         "Qualcomm",
         "Adreno 730",
         97
        ],
        [
         "2022-08-11",
         80,
         "Snapdragon 678",
         "Qualcomm",
         "Adreno 612",
         36
        ],
        [
         "2022-08-11",
         39,
         "Exynos 9825",
         "Samsung",
         "Mali G76 MP12",
         59
        ],
        [
         "2022-08-11",
         61,
         "Exynos 880",
         "Samsung",
         "Mali G76 MP5",
         45
        ],
        [
         "2022-08-11",
         5,
         "Snapdragon 8 Gen 1",
         "Qualcomm",
         "Adreno 730",
         94
        ],
        [
         "2022-08-11",
         108,
         "Kirin 710A",
         "HiSilicon",
         "Mali-G51",
         29
        ],
        [
         "2022-08-11",
         6,
         "A14 Bionic",
         "Apple",
         "Apple GPU",
         92
        ],
        [
         "2022-08-11",
         14,
         "A13 Bionic",
         "Apple",
         "Apple A13 Bionic GPU",
         82
        ],
        [
         "2022-08-11",
         25,
         "Exynos 990",
         "Samsung",
         "Mali-G77 MP11",
         71
        ],
        [
         "2022-08-11",
         53,
         "Exynos 980",
         "Samsung",
         "Mali G76 MP5",
         49
        ],
        [
         "2022-08-11",
         70,
         "Helio G96",
         "MediaTek",
         "Mali G57 MC2",
         42
        ],
        [
         "2022-08-11",
         71,
         "Helio G90T",
         "MediaTek",
         "Mali-G76 MC4",
         42
        ],
        [
         "2022-08-11",
         62,
         "Snapdragon 480 Plus",
         "Qualcomm",
         "Adreno 619",
         44
        ],
        [
         "2022-08-11",
         7,
         "Snapdragon 888 Plus",
         "Qualcomm",
         "Adreno 660",
         91
        ],
        [
         "2022-08-11",
         124,
         "Helio A25",
         "MediaTek",
         "PowerVR GE8320",
         23
        ],
        [
         "2022-08-11",
         86,
         "Helio G88",
         "MediaTek",
         "Mali-G52 MC2",
         33
        ],
        [
         "2022-08-11",
         8,
         "Exynos 2200",
         "Samsung",
         "Samsung Xclipse 920",
         90
        ],
        [
         "2022-08-11",
         87,
         "Helio G85",
         "MediaTek",
         "Mali-G52 MP2",
         33
        ],
        [
         "2022-08-11",
         73,
         "Snapdragon 730",
         "Qualcomm",
         "Adreno 618",
         42
        ],
        [
         "2022-08-11",
         10,
         "Dimensity 8100",
         "MediaTek",
         "Mali-G610 MC6",
         88
        ],
        [
         "2022-08-11",
         90,
         "Exynos 9611",
         "Samsung",
         "Mali-G72 MP3",
         33
        ],
        [
         "2022-08-11",
         112,
         "Unisoc T606",
         "Unisoc",
         "Mali-G57 MP1",
         28
        ],
        [
         "2022-08-11",
         79,
         "Snapdragon 712",
         "Qualcomm",
         "Adreno 616",
         38
        ],
        [
         "2022-08-11",
         12,
         "Kirin 9000",
         "HiSilicon",
         "Mali-G78 MP24",
         85
        ],
        [
         "2022-08-11",
         114,
         "Helio P60",
         "MediaTek",
         "Mali-G72 MP3",
         28
        ],
        [
         "2022-08-11",
         91,
         "Kirin 960",
         "HiSilicon",
         "Mali-G71 MP8",
         33
        ],
        [
         "2022-08-11",
         15,
         "Snapdragon 870",
         "Qualcomm",
         "Adreno 650",
         78
        ],
        [
         "2022-08-11",
         92,
         "Snapdragon 670",
         "Qualcomm",
         "Adreno 615",
         33
        ],
        [
         "2022-08-11",
         85,
         "Snapdragon 675",
         "Qualcomm",
         "Adreno 612",
         34
        ],
        [
         "2022-08-11",
         110,
         "Snapdragon 460",
         "Qualcomm",
         "Adreno 610",
         29
        ],
        [
         "2022-08-11",
         95,
         "Exynos 8890",
         "Samsung",
         "Mali-T880 MP12",
         32
        ],
        [
         "2022-08-11",
         16,
         "Kirin 9000E",
         "HiSilicon",
         "Mali-G78 MP22",
         78
        ],
        [
         "2022-08-11",
         99,
         "Apple A9",
         "Apple",
         "PowerVR GT7600",
         31
        ],
        [
         "2022-08-11",
         18,
         "Snapdragon 865 Plus",
         "Qualcomm",
         "Adreno 650",
         78
        ],
        [
         "2022-08-11",
         97,
         "Snapdragon 662",
         "Qualcomm",
         "Adreno 610",
         31
        ],
        [
         "2022-08-11",
         103,
         "Helio P65",
         "MediaTek",
         "Mali-G52 MC2",
         30
        ],
        [
         "2022-08-11",
         21,
         "Dimensity 8000",
         "MediaTek",
         "Mali-G610 MC6",
         76
        ],
        [
         "2022-08-11",
         100,
         "Snapdragon 821",
         "Qualcomm",
         "Adreno 530",
         31
        ],
        [
         "2022-08-11",
         105,
         "Kirin 710",
         "HiSilicon",
         "Mali-G51 MP4",
         30
        ],
        [
         "2022-08-11",
         22,
         "Snapdragon 865",
         "Qualcomm",
         "Adreno 650",
         74
        ],
        [
         "2022-08-11",
         102,
         "Kirin 710F",
         "HiSilicon",
         "Mali-G51 MP4",
         30
        ],
        [
         "2022-08-11",
         23,
         "Snapdragon 7 Gen 1",
         "Qualcomm",
         "Adreno 662",
         72
        ],
        [
         "2022-08-11",
         107,
         "Tiger T612",
         "Unisoc",
         "Mali-G57 MP1",
         29
        ],
        [
         "2022-08-11",
         29,
         "Snapdragon 855 Plus",
         "Qualcomm",
         "Adreno 640",
         66
        ],
        [
         "2022-08-11",
         120,
         "Helio P35",
         "MediaTek",
         "IMG PowerVR GE8320",
         25
        ],
        [
         "2022-08-11",
         109,
         "Exynos 850",
         "Samsung",
         "Mali-G52 MP1",
         29
        ],
        [
         "2022-08-11",
         30,
         "Kirin 990 (5G)",
         "HiSilicon",
         "Mali G76 MP16",
         65
        ],
        [
         "2022-08-11",
         113,
         "Tiger T610",
         "Unisoc",
         "ARM Mali G52 MP2",
         28
        ],
        [
         "2022-08-11",
         33,
         "Snapdragon 855",
         "Qualcomm",
         "Adreno 640",
         64
        ],
        [
         "2022-08-11",
         115,
         "Helio G37",
         "MediaTek",
         "PowerVR GE8320",
         27
        ],
        [
         "2022-08-11",
         35,
         "Kirin 990 (4G)",
         "HiSilicon",
         "Mali G76 MP16",
         62
        ],
        [
         "2022-08-11",
         119,
         "Exynos 7904",
         "Samsung",
         "Mali-G71 MP2",
         25
        ],
        [
         "2022-08-11",
         40,
         "Dimensity 1000L",
         "MediaTek",
         "Mali-G77 MC9",
         57
        ],
        [
         "2022-08-11",
         41,
         "Kirin 985",
         "HiSilicon",
         "Mali-G77 MP8",
         56
        ],
        [
         "2022-08-11",
         121,
         "Exynos 7885",
         "Samsung",
         "Mali-G71 MP2",
         24
        ],
        [
         "2022-08-11",
         123,
         "Kirin 950",
         "HiSilicon",
         "Mali-T880 MP4",
         24
        ],
        [
         "2022-08-11",
         46,
         "Snapdragon 768G",
         "Qualcomm",
         "Adreno 620",
         54
        ],
        [
         "2022-08-11",
         47,
         "Dimensity 900",
         "MediaTek",
         "Mali-G68 MC4",
         53
        ],
        [
         "2022-08-11",
         2,
         "Dimensity 9000 Plus",
         "MediaTek",
         "Mali-G710 MC10",
         97
        ],
        [
         "2022-08-11",
         52,
         "Dimensity 800U",
         "MediaTek",
         "Mali-G57 MC3",
         49
        ],
        [
         "2022-08-11",
         9,
         "Snapdragon 888",
         "Qualcomm",
         "Adreno 660",
         90
        ],
        [
         "2022-08-11",
         55,
         "Dimensity 810",
         "MediaTek",
         "Mali-G57 MC2",
         48
        ],
        [
         "2022-08-11",
         19,
         "Dimensity 1300",
         "MediaTek",
         "Mali-G77 MC9",
         77
        ],
        [
         "2022-08-11",
         125,
         "Helio G25",
         "MediaTek",
         "IMG PowerVR GE8320",
         23
        ],
        [
         "2022-08-11",
         20,
         "Dimensity 1200",
         "MediaTek",
         "Mali-G77 MC9",
         77
        ],
        [
         "2022-08-11",
         26,
         "Dimensity 1000 Plus",
         "MediaTek",
         "Mali-G77 MC9",
         69
        ],
        [
         "2022-08-11",
         28,
         "Snapdragon 860",
         "Qualcomm",
         "Adreno 640",
         67
        ],
        [
         "2022-08-11",
         31,
         "Snapdragon 778G Plus",
         "Qualcomm",
         "Adreno 642L",
         64
        ],
        [
         "2022-08-11",
         32,
         "Snapdragon 780G",
         "Qualcomm",
         "Adreno 642",
         64
        ],
        [
         "2022-08-11",
         34,
         "Snapdragon 778G",
         "Qualcomm",
         "Adreno 642L",
         62
        ],
        [
         "2022-08-11",
         37,
         "Dimensity 920",
         "MediaTek",
         "Mali-G68 MC4",
         60
        ],
        [
         "2022-08-11",
         38,
         "Dimensity 1000",
         "MediaTek",
         "Mali-G77 MP9",
         60
        ],
        [
         "2022-08-11",
         42,
         "Kirin 980",
         "HiSilicon",
         "Mali G76 MP10",
         56
        ],
        [
         "2022-08-11",
         45,
         "Dimensity 820",
         "MediaTek",
         "Mali-G57 MC5",
         54
        ],
        [
         "2022-08-11",
         48,
         "Snapdragon 845",
         "Qualcomm",
         "Adreno 630",
         52
        ],
        [
         "2022-08-11",
         49,
         "Snapdragon 695",
         "Qualcomm",
         "Adreno 619",
         51
        ],
        [
         "2022-08-11",
         54,
         "Snapdragon 765G",
         "Qualcomm",
         "Adreno 620",
         49
        ],
        [
         "2022-08-11",
         59,
         "Dimensity 800",
         "MediaTek",
         "Mali-G57 MC4",
         46
        ],
        [
         "2022-08-11",
         60,
         "Snapdragon 732G",
         "Qualcomm",
         "Adreno 618",
         45
        ],
        [
         "2022-08-11",
         65,
         "Snapdragon 690",
         "Qualcomm",
         "Adreno 619L",
         44
        ],
        [
         "2022-08-11",
         66,
         "Snapdragon 720G",
         "Qualcomm",
         "Adreno 618",
         44
        ],
        [
         "2022-08-11",
         75,
         "Snapdragon 480",
         "Qualcomm",
         "Adreno 619",
         40
        ],
        [
         "2022-08-11",
         76,
         "Snapdragon 680",
         "Qualcomm",
         "Adreno 610",
         39
        ],
        [
         "2022-08-11",
         83,
         "Tiger T618",
         "Unisoc",
         "ARM Mali-G52 MP2",
         34
        ],
        [
         "2022-08-11",
         111,
         "Snapdragon 660",
         "Qualcomm",
         "Adreno 512",
         29
        ],
        [
         "2022-08-11",
         116,
         "Snapdragon 636",
         "Qualcomm",
         "Adreno 509",
         26
        ],
        [
         "2022-08-11",
         117,
         "Snapdragon 632",
         "Qualcomm",
         "Adreno 506",
         26
        ],
        [
         "2022-08-11",
         118,
         "Helio G35",
         "MediaTek",
         "IMG PowerVR GE8320",
         25
        ],
        [
         "2022-09-13",
         79,
         "Snapdragon 680",
         "Qualcomm",
         "Adreno 610",
         38
        ],
        [
         "2022-09-13",
         80,
         "Snapdragon 712",
         "Qualcomm",
         "Adreno 616",
         38
        ],
        [
         "2022-09-13",
         81,
         "Snapdragon 678",
         "Qualcomm",
         "Adreno 612",
         36
        ],
        [
         "2022-09-13",
         82,
         "Snapdragon 710",
         "Qualcomm",
         "Adreno 616",
         36
        ],
        [
         "2022-09-13",
         83,
         "Tiger T618",
         "Unisoc",
         "ARM Mali-G52 MP2",
         34
        ],
        [
         "2022-09-13",
         84,
         "Snapdragon 820",
         "Qualcomm",
         "Adreno 530",
         34
        ],
        [
         "2022-09-13",
         85,
         "Snapdragon 675",
         "Qualcomm",
         "Adreno 612",
         34
        ],
        [
         "2022-09-13",
         86,
         "Helio P90",
         "MediaTek",
         "PowerVR GM9446",
         34
        ],
        [
         "2022-09-13",
         87,
         "Helio G88",
         "MediaTek",
         "Mali-G52 MC2",
         33
        ],
        [
         "2022-09-13",
         88,
         "Helio G85",
         "MediaTek",
         "Mali-G52 MP2",
         33
        ],
        [
         "2022-09-13",
         89,
         "Helio G80",
         "MediaTek",
         "Mali-G52 MP2",
         33
        ],
        [
         "2022-09-13",
         1,
         "A16 Bionic",
         "Apple",
         "Apple GPU",
         100
        ],
        [
         "2022-09-13",
         2,
         "A15 Bionic",
         "Apple",
         "Apple GPU",
         98
        ],
        [
         "2022-09-13",
         3,
         "Dimensity 9000 Plus",
         "MediaTek",
         "Mali-G710 MC10",
         97
        ],
        [
         "2022-09-13",
         20,
         "Dimensity 1200",
         "MediaTek",
         "Mali-G77 MC9",
         77
        ],
        [
         "2022-09-13",
         21,
         "Dimensity 1300",
         "MediaTek",
         "Mali-G77 MC9",
         76
        ],
        [
         "2022-09-13",
         22,
         "Dimensity 8000",
         "MediaTek",
         "Mali-G610 MC6",
         76
        ],
        [
         "2022-09-13",
         23,
         "Snapdragon 865",
         "Qualcomm",
         "Adreno 650",
         74
        ],
        [
         "2022-09-13",
         47,
         "Dimensity 900",
         "MediaTek",
         "Mali-G68 MC4",
         53
        ],
        [
         "2022-09-13",
         48,
         "Snapdragon 768G",
         "Qualcomm",
         "Adreno 620",
         53
        ],
        [
         "2022-09-13",
         49,
         "Snapdragon 845",
         "Qualcomm",
         "Adreno 630",
         52
        ],
        [
         "2022-09-13",
         50,
         "Snapdragon 695",
         "Qualcomm",
         "Adreno 619",
         51
        ],
        [
         "2022-09-13",
         55,
         "Dimensity 810",
         "MediaTek",
         "Mali-G57 MC2",
         48
        ],
        [
         "2022-09-13",
         56,
         "Dimensity 800U",
         "MediaTek",
         "Mali-G57 MC3",
         48
        ],
        [
         "2022-09-13",
         57,
         "Snapdragon 765",
         "Qualcomm",
         "Adreno 620",
         48
        ],
        [
         "2022-09-13",
         58,
         "Snapdragon 750G",
         "Qualcomm",
         "Adreno 619",
         47
        ],
        [
         "2022-09-13",
         32,
         "Snapdragon 778G Plus",
         "Qualcomm",
         "Adreno 642L",
         64
        ],
        [
         "2022-09-13",
         33,
         "Snapdragon 780G",
         "Qualcomm",
         "Adreno 642",
         64
        ],
        [
         "2022-09-13",
         34,
         "Snapdragon 855",
         "Qualcomm",
         "Adreno 640",
         63
        ],
        [
         "2022-09-13",
         35,
         "Snapdragon 778G",
         "Qualcomm",
         "Adreno 642L",
         62
        ],
        [
         "2022-09-13",
         40,
         "Exynos 9825",
         "Samsung",
         "Mali G76 MP12",
         59
        ],
        [
         "2022-09-13",
         41,
         "Dimensity 1000L",
         "MediaTek",
         "Mali-G77 MC9",
         57
        ],
        [
         "2022-09-13",
         42,
         "Kirin 985",
         "HiSilicon",
         "Mali-G77 MP8",
         56
        ],
        [
         "2022-09-13",
         63,
         "Snapdragon 480 Plus",
         "Qualcomm",
         "Adreno 619",
         44
        ],
        [
         "2022-09-13",
         64,
         "Dimensity 700",
         "MediaTek",
         "Mali-G57 MC2",
         44
        ],
        [
         "2022-09-13",
         65,
         "Dimensity 720",
         "MediaTek",
         "Mali-G57 MC3",
         44
        ],
        [
         "2022-09-13",
         66,
         "Snapdragon 690",
         "Qualcomm",
         "Adreno 619L",
         44
        ],
        [
         "2022-09-13",
         67,
         "Snapdragon 720G",
         "Qualcomm",
         "Adreno 618",
         44
        ],
        [
         "2022-09-13",
         68,
         "Helio G95",
         "MediaTek",
         "Mali-G76 3EEMC4",
         43
        ],
        [
         "2022-09-13",
         69,
         "Helio G90",
         "MediaTek",
         "Mali-G76 MC4",
         43
        ],
        [
         "2022-09-13",
         70,
         "Snapdragon 730G",
         "Qualcomm",
         "Adreno 618",
         43
        ],
        [
         "2022-09-13",
         71,
         "Helio G96",
         "MediaTek",
         "Mali G57 MC2",
         42
        ],
        [
         "2022-09-13",
         72,
         "Snapdragon 835",
         "Qualcomm",
         "Adreno 540",
         42
        ],
        [
         "2022-09-13",
         73,
         "Snapdragon 730",
         "Qualcomm",
         "Adreno 618",
         42
        ],
        [
         "2022-09-13",
         74,
         "Helio G90T",
         "MediaTek",
         "Mali-G76 MC4",
         41
        ],
        [
         "2022-09-13",
         98,
         "Snapdragon 662",
         "Qualcomm",
         "Adreno 610",
         31
        ],
        [
         "2022-09-13",
         99,
         "Helio G70",
         "MediaTek",
         "Mali-G52 2EEMC2",
         31
        ],
        [
         "2022-09-13",
         100,
         "Apple A9",
         "Apple",
         "PowerVR GT7600",
         31
        ],
        [
         "2022-09-13",
         101,
         "Snapdragon 821",
         "Qualcomm",
         "Adreno 530",
         31
        ],
        [
         "2022-09-13",
         4,
         "Snapdragon 8 Plus Gen 1",
         "Qualcomm",
         "Adreno 730",
         97
        ],
        [
         "2022-09-13",
         5,
         "Dimensity 9000",
         "MediaTek",
         "Mali-G710",
         96
        ],
        [
         "2022-09-13",
         6,
         "Snapdragon 8 Gen 1",
         "Qualcomm",
         "Adreno 730",
         94
        ],
        [
         "2022-09-13",
         7,
         "A14 Bionic",
         "Apple",
         "Apple GPU",
         92
        ],
        [
         "2022-09-13",
         8,
         "Snapdragon 888 Plus",
         "Qualcomm",
         "Adreno 660",
         91
        ],
        [
         "2022-09-13",
         9,
         "Exynos 2200",
         "Samsung",
         "Samsung Xclipse 920",
         90
        ],
        [
         "2022-09-13",
         10,
         "Snapdragon 888",
         "Qualcomm",
         "Adreno 660",
         90
        ],
        [
         "2022-09-13",
         11,
         "Dimensity 8100",
         "MediaTek",
         "Mali-G610 MC6",
         87
        ],
        [
         "2022-09-13",
         12,
         "Google Tensor",
         "Google",
         "Mali-G78 MP20",
         85
        ],
        [
         "2022-09-13",
         13,
         "Kirin 9000",
         "HiSilicon",
         "Mali-G78 MP24",
         85
        ],
        [
         "2022-09-13",
         14,
         "Exynos 2100",
         "Samsung",
         "Mali-G78 MP14",
         82
        ],
        [
         "2022-09-13",
         15,
         "A13 Bionic",
         "Apple",
         "Apple A13 Bionic GPU",
         81
        ],
        [
         "2022-09-13",
         16,
         "Snapdragon 870",
         "Qualcomm",
         "Adreno 650",
         78
        ],
        [
         "2022-09-13",
         17,
         "Kirin 9000E",
         "HiSilicon",
         "Mali-G78 MP22",
         78
        ],
        [
         "2022-09-13",
         18,
         "Exynos 1080",
         "Samsung",
         "Mali-G78 MP10",
         78
        ],
        [
         "2022-09-13",
         19,
         "Snapdragon 865 Plus",
         "Qualcomm",
         "Adreno 650",
         78
        ],
        [
         "2022-09-13",
         36,
         "Kirin 990 (4G)",
         "HiSilicon",
         "Mali G76 MP16",
         61
        ],
        [
         "2022-09-13",
         37,
         "Exynos 9820",
         "Samsung",
         "Mali G76 MP12",
         61
        ],
        [
         "2022-09-13",
         38,
         "Dimensity 920",
         "MediaTek",
         "Mali-G68 MC4",
         59
        ],
        [
         "2022-09-13",
         39,
         "Dimensity 1000",
         "MediaTek",
         "Mali-G77 MP9",
         59
        ],
        [
         "2022-09-13",
         43,
         "Kirin 980",
         "HiSilicon",
         "Mali G76 MP10",
         56
        ],
        [
         "2022-09-13",
         44,
         "Exynos 1280",
         "Samsung",
         "Mali-G68",
         55
        ],
        [
         "2022-09-13",
         45,
         "Kirin 820",
         "HiSilicon",
         "Mali-G57 MP6",
         55
        ],
        [
         "2022-09-13",
         46,
         "Dimensity 820",
         "MediaTek",
         "Mali-G57 MC5",
         54
        ],
        [
         "2022-09-13",
         51,
         "A11 Bionic",
         "Apple",
         "Apple GPU",
         51
        ],
        [
         "2022-09-13",
         52,
         "Exynos 9810",
         "Samsung",
         "Mali-G72MP18",
         50
        ],
        [
         "2022-09-13",
         53,
         "Exynos 980",
         "Samsung",
         "Mali G76 MP5",
         49
        ],
        [
         "2022-09-13",
         54,
         "Snapdragon 765G",
         "Qualcomm",
         "Adreno 620",
         49
        ],
        [
         "2022-09-13",
         59,
         "Kirin 810",
         "HiSilicon",
         "Mali-G52 MP6",
         47
        ],
        [
         "2022-09-13",
         60,
         "Dimensity 800",
         "MediaTek",
         "Mali-G57 MC4",
         46
        ],
        [
         "2022-09-13",
         61,
         "Snapdragon 732G",
         "Qualcomm",
         "Adreno 618",
         45
        ],
        [
         "2022-09-13",
         62,
         "Exynos 880",
         "Samsung",
         "Mali G76 MP5",
         45
        ],
        [
         "2022-09-13",
         90,
         "Helio P95",
         "MediaTek",
         "PowerVR GM9446",
         33
        ],
        [
         "2022-09-13",
         91,
         "Exynos 9611",
         "Samsung",
         "Mali-G72 MP3",
         33
        ],
        [
         "2022-09-13",
         92,
         "Kirin 960",
         "HiSilicon",
         "Mali-G71 MP8",
         33
        ],
        [
         "2022-09-13",
         93,
         "Exynos 9609",
         "Samsung",
         "Mali-G72 MP3",
         32
        ],
        [
         "2022-09-13",
         94,
         "Snapdragon 670",
         "Qualcomm",
         "Adreno 615",
         32
        ],
        [
         "2022-09-13",
         95,
         "Exynos 8890",
         "Samsung",
         "Mali-T880 MP12",
         32
        ],
        [
         "2022-09-13",
         96,
         "Tiger T616",
         "Unisoc",
         "Mali-G57 MP1",
         31
        ],
        [
         "2022-09-13",
         97,
         "Tiger T700",
         "Unisoc",
         "ARM Mali-G52 MC2",
         31
        ],
        [
         "2022-09-13",
         102,
         "Snapdragon 665",
         "Qualcomm",
         "Adreno 610",
         31
        ],
        [
         "2022-09-13",
         103,
         "Kirin 710F",
         "HiSilicon",
         "Mali-G51 MP4",
         30
        ],
        [
         "2022-09-13",
         104,
         "Helio P65",
         "MediaTek",
         "Mali-G52 MC2",
         30
        ],
        [
         "2022-09-13",
         105,
         "Helio P70",
         "MediaTek",
         "Mali-G72 MP3",
         30
        ],
        [
         "2022-09-13",
         106,
         "Exynos 9610",
         "Samsung",
         "Mali-G72 MP3",
         30
        ],
        [
         "2022-09-13",
         107,
         "Tiger T612",
         "Unisoc",
         "Mali-G57 MP1",
         29
        ],
        [
         "2022-09-13",
         108,
         "Kirin 710A",
         "HiSilicon",
         "Mali-G51",
         29
        ],
        [
         "2022-09-13",
         109,
         "Exynos 850",
         "Samsung",
         "Mali-G52 MP1",
         29
        ],
        [
         "2022-09-13",
         110,
         "Snapdragon 460",
         "Qualcomm",
         "Adreno 610",
         29
        ],
        [
         "2022-09-13",
         111,
         "Kirin 710",
         "HiSilicon",
         "Mali-G51 MP4",
         29
        ],
        [
         "2022-09-13",
         112,
         "Snapdragon 660",
         "Qualcomm",
         "Adreno 512",
         29
        ],
        [
         "2022-09-13",
         113,
         "Unisoc T606",
         "Unisoc",
         "Mali-G57 MP1",
         28
        ],
        [
         "2022-09-13",
         114,
         "Tiger T610",
         "Unisoc",
         "ARM Mali G52 MP2",
         28
        ],
        [
         "2022-09-13",
         115,
         "Helio P60",
         "MediaTek",
         "Mali-G72 MP3",
         28
        ],
        [
         "2022-09-13",
         116,
         "Helio G37",
         "MediaTek",
         "PowerVR GE8320",
         26
        ],
        [
         "2022-09-13",
         117,
         "Snapdragon 636",
         "Qualcomm",
         "Adreno 509",
         26
        ],
        [
         "2022-09-13",
         118,
         "Snapdragon 632",
         "Qualcomm",
         "Adreno 506",
         26
        ],
        [
         "2022-09-13",
         119,
         "Helio G35",
         "MediaTek",
         "IMG PowerVR GE8320",
         25
        ],
        [
         "2022-09-13",
         120,
         "Exynos 7904",
         "Samsung",
         "Mali-G71 MP2",
         25
        ],
        [
         "2022-09-13",
         121,
         "Helio P35",
         "MediaTek",
         "IMG PowerVR GE8320",
         25
        ],
        [
         "2022-09-13",
         24,
         "Snapdragon 7 Gen 1",
         "Qualcomm",
         "Adreno 662",
         71
        ],
        [
         "2022-09-13",
         25,
         "Dimensity 1100",
         "MediaTek",
         "Mali-G77 MC9",
         71
        ],
        [
         "2022-09-13",
         26,
         "Exynos 990",
         "Samsung",
         "Mali-G77 MP11",
         71
        ],
        [
         "2022-09-13",
         27,
         "Dimensity 1000 Plus",
         "MediaTek",
         "Mali-G77 MC9",
         69
        ],
        [
         "2022-09-13",
         28,
         "A12 Bionic",
         "Apple",
         "Apple A12 Bionic GPU",
         69
        ],
        [
         "2022-09-13",
         29,
         "Snapdragon 860",
         "Qualcomm",
         "Adreno 640",
         67
        ],
        [
         "2022-09-13",
         30,
         "Snapdragon 855 Plus",
         "Qualcomm",
         "Adreno 640",
         66
        ],
        [
         "2022-09-13",
         31,
         "Kirin 990 (5G)",
         "HiSilicon",
         "Mali G76 MP16",
         65
        ],
        [
         "2022-09-13",
         75,
         "Snapdragon 480",
         "Qualcomm",
         "Adreno 619",
         40
        ],
        [
         "2022-09-13",
         76,
         "A10 Fusion",
         "Apple",
         "PowerVR GT7600",
         40
        ],
        [
         "2022-09-13",
         77,
         "Kirin 970",
         "HiSilicon",
         "Mali G72 MP12",
         39
        ],
        [
         "2022-09-13",
         78,
         "Exynos 8895",
         "Samsung",
         "Mali-G71 MP20",
         39
        ],
        [
         "2022-09-13",
         122,
         "Exynos 7885",
         "Samsung",
         "Mali-G71 MP2",
         24
        ],
        [
         "2022-09-13",
         123,
         "Snapdragon 630",
         "Qualcomm",
         "Adreno 508",
         24
        ],
        [
         "2022-09-13",
         124,
         "Kirin 950",
         "HiSilicon",
         "Mali-T880 MP4",
         24
        ],
        [
         "2022-09-13",
         125,
         "Helio A25",
         "MediaTek",
         "PowerVR GE8320",
         23
        ]
       ],
       "datasetInfos": [],
       "dbfsResultPath": null,
       "isJsonSchema": true,
       "metadata": {},
       "overflow": false,
       "plotOptions": {
        "customPlotOptions": {},
        "displayType": "table",
        "pivotAggregation": null,
        "pivotColumns": null,
        "xColumns": null,
        "yColumns": null
       },
       "removedWidgets": [],
       "schema": [
        {
         "metadata": "{}",
         "name": "process_dt",
         "type": "\"date\""
        },
        {
         "metadata": "{}",
         "name": "ranking",
         "type": "\"integer\""
        },
        {
         "metadata": "{}",
         "name": "cpu",
         "type": "\"string\""
        },
        {
         "metadata": "{}",
         "name": "manufacturer",
         "type": "\"string\""
        },
        {
         "metadata": "{}",
         "name": "gpu",
         "type": "\"string\""
        },
        {
         "metadata": "{}",
         "name": "score",
         "type": "\"integer\""
        }
       ],
       "type": "table"
      }
     },
     "output_type": "display_data"
    }
   ],
   "source": [
    "%sql\n",
    "SELECT \n",
    "  *\n",
    "FROM dv_analytics_work.cpu_ranking"
   ]
  },
  {
   "cell_type": "code",
   "execution_count": 0,
   "metadata": {
    "application/vnd.databricks.v1+cell": {
     "cellMetadata": {
      "implicitDf": true
     },
     "inputWidgets": {},
     "nuid": "51cd6e64-5678-4711-82c4-5a3123307c30",
     "showTitle": false,
     "title": ""
    }
   },
   "outputs": [
    {
     "output_type": "display_data",
     "data": {
      "text/html": [
       "<style scoped>\n",
       "  .table-result-container {\n",
       "    max-height: 300px;\n",
       "    overflow: auto;\n",
       "  }\n",
       "  table, th, td {\n",
       "    border: 1px solid black;\n",
       "    border-collapse: collapse;\n",
       "  }\n",
       "  th, td {\n",
       "    padding: 5px;\n",
       "  }\n",
       "  th {\n",
       "    text-align: left;\n",
       "  }\n",
       "</style><div class='table-result-container'><table class='table-result'><thead style='background-color: white'><tr><th>process_dt</th><th>count(1)</th></tr></thead><tbody><tr><td>2022-08-11</td><td>125</td></tr><tr><td>2022-09-13</td><td>125</td></tr></tbody></table></div>"
      ]
     },
     "metadata": {
      "application/vnd.databricks.v1+output": {
       "addedWidgets": {},
       "aggData": [],
       "aggError": "",
       "aggOverflow": false,
       "aggSchema": [],
       "aggSeriesLimitReached": false,
       "aggType": "",
       "arguments": {},
       "columnCustomDisplayInfos": {},
       "data": [
        [
         "2022-08-11",
         125
        ],
        [
         "2022-09-13",
         125
        ]
       ],
       "datasetInfos": [],
       "dbfsResultPath": null,
       "isJsonSchema": true,
       "metadata": {},
       "overflow": false,
       "plotOptions": {
        "customPlotOptions": {},
        "displayType": "table",
        "pivotAggregation": null,
        "pivotColumns": null,
        "xColumns": null,
        "yColumns": null
       },
       "removedWidgets": [],
       "schema": [
        {
         "metadata": "{}",
         "name": "process_dt",
         "type": "\"date\""
        },
        {
         "metadata": "{}",
         "name": "count(1)",
         "type": "\"long\""
        }
       ],
       "type": "table"
      }
     },
     "output_type": "display_data"
    }
   ],
   "source": [
    "%sql\n",
    "SELECT \n",
    "  process_dt,\n",
    "  COUNT(*)\n",
    "FROM dv_analytics_work.cpu_ranking\n",
    "GROUP BY 1"
   ]
  },
  {
   "cell_type": "code",
   "execution_count": 0,
   "metadata": {
    "application/vnd.databricks.v1+cell": {
     "cellMetadata": {},
     "inputWidgets": {},
     "nuid": "c9b1e30d-c9ba-4f70-b2dc-65470094f33a",
     "showTitle": false,
     "title": ""
    }
   },
   "outputs": [
    {
     "output_type": "display_data",
     "data": {
      "text/html": [
       "<style scoped>\n",
       "  .ansiout {\n",
       "    display: block;\n",
       "    unicode-bidi: embed;\n",
       "    white-space: pre-wrap;\n",
       "    word-wrap: break-word;\n",
       "    word-break: break-all;\n",
       "    font-family: \"Source Code Pro\", \"Menlo\", monospace;;\n",
       "    font-size: 13px;\n",
       "    color: #555;\n",
       "    margin-left: 4px;\n",
       "    line-height: 19px;\n",
       "  }\n",
       "</style>\n",
       "<div class=\"ansiout\">Out[34]: &#39;/Users/juan.brekes@jamcity.com/AVIZ Tickets/00 Device Clustering Project/ATRIBEC-119 Devices Clustering Project/ATRIBEC-119 CPU Performance Ranking&#39;</div>"
      ]
     },
     "metadata": {
      "application/vnd.databricks.v1+output": {
       "addedWidgets": {},
       "arguments": {},
       "data": "<div class=\"ansiout\">Out[34]: &#39;/Users/juan.brekes@jamcity.com/AVIZ Tickets/00 Device Clustering Project/ATRIBEC-119 Devices Clustering Project/ATRIBEC-119 CPU Performance Ranking&#39;</div>",
       "datasetInfos": [],
       "metadata": {},
       "removedWidgets": [],
       "type": "html"
      }
     },
     "output_type": "display_data"
    }
   ],
   "source": [
    "dbutils.notebook.entry_point.getDbutils().notebook().getContext().notebookPath().get()"
   ]
  }
 ],
 "metadata": {
  "application/vnd.databricks.v1+notebook": {
   "dashboards": [],
   "language": "python",
   "notebookMetadata": {
    "mostRecentlyExecutedCommandWithImplicitDF": {
     "commandId": 2464282811905244,
     "dataframes": [
      "_sqldf"
     ]
    },
    "pythonIndentUnit": 4
   },
   "notebookName": "ATRIBEC-119 CPU Performance Ranking",
   "widgets": {
    "dateToProcess": {
     "currentValue": "null",
     "nuid": "a9ad7fb6-f459-44aa-bf64-4d2e23823c86",
     "widgetInfo": {
      "widgetType": "text",
      "defaultValue": "null",
      "label": null,
      "name": "dateToProcess",
      "options": {
       "widgetType": "text",
       "validationRegex": null
      }
     }
    }
   }
  }
 },
 "nbformat": 4,
 "nbformat_minor": 0
}
